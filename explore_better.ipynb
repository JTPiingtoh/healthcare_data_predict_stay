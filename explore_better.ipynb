{
 "cells": [
  {
   "cell_type": "markdown",
   "id": "63e0fb35",
   "metadata": {},
   "source": []
  },
  {
   "cell_type": "code",
   "execution_count": 10,
   "id": "436b7ac9",
   "metadata": {},
   "outputs": [],
   "source": [
    "import numpy as np\n",
    "import pandas as pd\n",
    "import matplotlib.pyplot as plt"
   ]
  },
  {
   "cell_type": "code",
   "execution_count": 11,
   "id": "b2dc1072",
   "metadata": {},
   "outputs": [],
   "source": [
    "df_train = pd.read_csv('train_data.csv')"
   ]
  },
  {
   "cell_type": "code",
   "execution_count": 12,
   "id": "0c1d76bc",
   "metadata": {},
   "outputs": [
    {
     "data": {
      "text/html": [
       "<div>\n",
       "<style scoped>\n",
       "    .dataframe tbody tr th:only-of-type {\n",
       "        vertical-align: middle;\n",
       "    }\n",
       "\n",
       "    .dataframe tbody tr th {\n",
       "        vertical-align: top;\n",
       "    }\n",
       "\n",
       "    .dataframe thead th {\n",
       "        text-align: right;\n",
       "    }\n",
       "</style>\n",
       "<table border=\"1\" class=\"dataframe\">\n",
       "  <thead>\n",
       "    <tr style=\"text-align: right;\">\n",
       "      <th></th>\n",
       "      <th>case_id</th>\n",
       "      <th>Hospital_code</th>\n",
       "      <th>Hospital_type_code</th>\n",
       "      <th>City_Code_Hospital</th>\n",
       "      <th>Hospital_region_code</th>\n",
       "      <th>Available Extra Rooms in Hospital</th>\n",
       "      <th>Department</th>\n",
       "      <th>Ward_Type</th>\n",
       "      <th>Ward_Facility_Code</th>\n",
       "      <th>Bed Grade</th>\n",
       "      <th>patientid</th>\n",
       "      <th>City_Code_Patient</th>\n",
       "      <th>Type of Admission</th>\n",
       "      <th>Severity of Illness</th>\n",
       "      <th>Visitors with Patient</th>\n",
       "      <th>Age</th>\n",
       "      <th>Admission_Deposit</th>\n",
       "      <th>Stay</th>\n",
       "    </tr>\n",
       "  </thead>\n",
       "  <tbody>\n",
       "    <tr>\n",
       "      <th>0</th>\n",
       "      <td>1</td>\n",
       "      <td>8</td>\n",
       "      <td>c</td>\n",
       "      <td>3</td>\n",
       "      <td>Z</td>\n",
       "      <td>3</td>\n",
       "      <td>radiotherapy</td>\n",
       "      <td>R</td>\n",
       "      <td>F</td>\n",
       "      <td>2.0</td>\n",
       "      <td>31397</td>\n",
       "      <td>7.0</td>\n",
       "      <td>Emergency</td>\n",
       "      <td>Extreme</td>\n",
       "      <td>2</td>\n",
       "      <td>51-60</td>\n",
       "      <td>4911.0</td>\n",
       "      <td>0-10</td>\n",
       "    </tr>\n",
       "    <tr>\n",
       "      <th>1</th>\n",
       "      <td>2</td>\n",
       "      <td>2</td>\n",
       "      <td>c</td>\n",
       "      <td>5</td>\n",
       "      <td>Z</td>\n",
       "      <td>2</td>\n",
       "      <td>radiotherapy</td>\n",
       "      <td>S</td>\n",
       "      <td>F</td>\n",
       "      <td>2.0</td>\n",
       "      <td>31397</td>\n",
       "      <td>7.0</td>\n",
       "      <td>Trauma</td>\n",
       "      <td>Extreme</td>\n",
       "      <td>2</td>\n",
       "      <td>51-60</td>\n",
       "      <td>5954.0</td>\n",
       "      <td>41-50</td>\n",
       "    </tr>\n",
       "    <tr>\n",
       "      <th>2</th>\n",
       "      <td>3</td>\n",
       "      <td>10</td>\n",
       "      <td>e</td>\n",
       "      <td>1</td>\n",
       "      <td>X</td>\n",
       "      <td>2</td>\n",
       "      <td>anesthesia</td>\n",
       "      <td>S</td>\n",
       "      <td>E</td>\n",
       "      <td>2.0</td>\n",
       "      <td>31397</td>\n",
       "      <td>7.0</td>\n",
       "      <td>Trauma</td>\n",
       "      <td>Extreme</td>\n",
       "      <td>2</td>\n",
       "      <td>51-60</td>\n",
       "      <td>4745.0</td>\n",
       "      <td>31-40</td>\n",
       "    </tr>\n",
       "    <tr>\n",
       "      <th>3</th>\n",
       "      <td>4</td>\n",
       "      <td>26</td>\n",
       "      <td>b</td>\n",
       "      <td>2</td>\n",
       "      <td>Y</td>\n",
       "      <td>2</td>\n",
       "      <td>radiotherapy</td>\n",
       "      <td>R</td>\n",
       "      <td>D</td>\n",
       "      <td>2.0</td>\n",
       "      <td>31397</td>\n",
       "      <td>7.0</td>\n",
       "      <td>Trauma</td>\n",
       "      <td>Extreme</td>\n",
       "      <td>2</td>\n",
       "      <td>51-60</td>\n",
       "      <td>7272.0</td>\n",
       "      <td>41-50</td>\n",
       "    </tr>\n",
       "    <tr>\n",
       "      <th>4</th>\n",
       "      <td>5</td>\n",
       "      <td>26</td>\n",
       "      <td>b</td>\n",
       "      <td>2</td>\n",
       "      <td>Y</td>\n",
       "      <td>2</td>\n",
       "      <td>radiotherapy</td>\n",
       "      <td>S</td>\n",
       "      <td>D</td>\n",
       "      <td>2.0</td>\n",
       "      <td>31397</td>\n",
       "      <td>7.0</td>\n",
       "      <td>Trauma</td>\n",
       "      <td>Extreme</td>\n",
       "      <td>2</td>\n",
       "      <td>51-60</td>\n",
       "      <td>5558.0</td>\n",
       "      <td>41-50</td>\n",
       "    </tr>\n",
       "  </tbody>\n",
       "</table>\n",
       "</div>"
      ],
      "text/plain": [
       "   case_id  Hospital_code Hospital_type_code  City_Code_Hospital  \\\n",
       "0        1              8                  c                   3   \n",
       "1        2              2                  c                   5   \n",
       "2        3             10                  e                   1   \n",
       "3        4             26                  b                   2   \n",
       "4        5             26                  b                   2   \n",
       "\n",
       "  Hospital_region_code  Available Extra Rooms in Hospital    Department  \\\n",
       "0                    Z                                  3  radiotherapy   \n",
       "1                    Z                                  2  radiotherapy   \n",
       "2                    X                                  2    anesthesia   \n",
       "3                    Y                                  2  radiotherapy   \n",
       "4                    Y                                  2  radiotherapy   \n",
       "\n",
       "  Ward_Type Ward_Facility_Code  Bed Grade  patientid  City_Code_Patient  \\\n",
       "0         R                  F        2.0      31397                7.0   \n",
       "1         S                  F        2.0      31397                7.0   \n",
       "2         S                  E        2.0      31397                7.0   \n",
       "3         R                  D        2.0      31397                7.0   \n",
       "4         S                  D        2.0      31397                7.0   \n",
       "\n",
       "  Type of Admission Severity of Illness  Visitors with Patient    Age  \\\n",
       "0         Emergency             Extreme                      2  51-60   \n",
       "1            Trauma             Extreme                      2  51-60   \n",
       "2            Trauma             Extreme                      2  51-60   \n",
       "3            Trauma             Extreme                      2  51-60   \n",
       "4            Trauma             Extreme                      2  51-60   \n",
       "\n",
       "   Admission_Deposit   Stay  \n",
       "0             4911.0   0-10  \n",
       "1             5954.0  41-50  \n",
       "2             4745.0  31-40  \n",
       "3             7272.0  41-50  \n",
       "4             5558.0  41-50  "
      ]
     },
     "execution_count": 12,
     "metadata": {},
     "output_type": "execute_result"
    }
   ],
   "source": [
    "df_train.head()"
   ]
  },
  {
   "cell_type": "code",
   "execution_count": 13,
   "id": "e07cab6c",
   "metadata": {},
   "outputs": [
    {
     "name": "stdout",
     "output_type": "stream",
     "text": [
      "<class 'pandas.core.frame.DataFrame'>\n",
      "RangeIndex: 318438 entries, 0 to 318437\n",
      "Data columns (total 18 columns):\n",
      " #   Column                             Non-Null Count   Dtype  \n",
      "---  ------                             --------------   -----  \n",
      " 0   case_id                            318438 non-null  int64  \n",
      " 1   Hospital_code                      318438 non-null  int64  \n",
      " 2   Hospital_type_code                 318438 non-null  object \n",
      " 3   City_Code_Hospital                 318438 non-null  int64  \n",
      " 4   Hospital_region_code               318438 non-null  object \n",
      " 5   Available Extra Rooms in Hospital  318438 non-null  int64  \n",
      " 6   Department                         318438 non-null  object \n",
      " 7   Ward_Type                          318438 non-null  object \n",
      " 8   Ward_Facility_Code                 318438 non-null  object \n",
      " 9   Bed Grade                          318325 non-null  float64\n",
      " 10  patientid                          318438 non-null  int64  \n",
      " 11  City_Code_Patient                  313906 non-null  float64\n",
      " 12  Type of Admission                  318438 non-null  object \n",
      " 13  Severity of Illness                318438 non-null  object \n",
      " 14  Visitors with Patient              318438 non-null  int64  \n",
      " 15  Age                                318438 non-null  object \n",
      " 16  Admission_Deposit                  318438 non-null  float64\n",
      " 17  Stay                               318438 non-null  object \n",
      "dtypes: float64(3), int64(6), object(9)\n",
      "memory usage: 43.7+ MB\n"
     ]
    }
   ],
   "source": [
    "df_train.info()"
   ]
  },
  {
   "cell_type": "code",
   "execution_count": 26,
   "id": "31d3282a",
   "metadata": {},
   "outputs": [
    {
     "data": {
      "text/plain": [
       "np.float64(1181082.6254793175)"
      ]
     },
     "execution_count": 26,
     "metadata": {},
     "output_type": "execute_result"
    }
   ],
   "source": [
    "df_train['Admission_Deposit'].var()"
   ]
  },
  {
   "cell_type": "code",
   "execution_count": 23,
   "id": "21cf8f94",
   "metadata": {},
   "outputs": [
    {
     "data": {
      "text/plain": [
       "7"
      ]
     },
     "execution_count": 23,
     "metadata": {},
     "output_type": "execute_result"
    }
   ],
   "source": [
    "df_train['Hospital_type_code'].unique().shape[0]"
   ]
  },
  {
   "cell_type": "code",
   "execution_count": 15,
   "id": "c504f865",
   "metadata": {},
   "outputs": [
    {
     "data": {
      "text/plain": [
       "0              1\n",
       "1              2\n",
       "2              3\n",
       "3              4\n",
       "4              5\n",
       "           ...  \n",
       "318433    318434\n",
       "318434    318435\n",
       "318435    318436\n",
       "318436    318437\n",
       "318437    318438\n",
       "Name: case_id, Length: 318438, dtype: int64"
      ]
     },
     "execution_count": 15,
     "metadata": {},
     "output_type": "execute_result"
    }
   ],
   "source": [
    "df_train['case_id'].sort_values()"
   ]
  },
  {
   "cell_type": "code",
   "execution_count": null,
   "id": "3f4c75a0",
   "metadata": {},
   "outputs": [],
   "source": []
  },
  {
   "cell_type": "code",
   "execution_count": 28,
   "id": "3ba31162",
   "metadata": {},
   "outputs": [],
   "source": [
    "from seaborn import countplot, kdeplot\n",
    "from tqdm import tqdm\n",
    "\n",
    "def plot_dists(df: pd.DataFrame):\n",
    "\n",
    "    categorical_limit = 18 # this is a totally arbritray number\n",
    "\n",
    "    col_names = df.columns\n",
    "\n",
    "    for col_name in tqdm(col_names):\n",
    "    \n",
    "        # fig, ax = plt.subplots()\n",
    "\n",
    "        col = df[col_name]\n",
    "        fig, ax = plt.subplots(figsize=(15, 10))\n",
    "        \n",
    "        print(col_name)\n",
    "\n",
    "        # check to see if data is categorical\n",
    "\n",
    "        # if col_name in ['Stay, Age']:\n",
    "        #     x=col.sort_values()\n",
    "        # else:\n",
    "        #     x=col\n",
    "        \n",
    "        if col.unique().shape[0] < 50:\n",
    "            countplot(ax=ax, x=col.sort_values(), data=df, palette='rocket', align='edge', width=0.3, hue=col.sort_values(), legend=False)\n",
    "        else:\n",
    "            kdeplot(ax=ax, x=col, data=df)\n",
    "\n",
    "    # if column[0].unique().shape[0] < 50: # if <50, assume categorical\n",
    "        \n",
    "    #     countplot(ax=ax, x=column.sort_values(), data=column)"
   ]
  },
  {
   "cell_type": "code",
   "execution_count": 27,
   "id": "44d484f5",
   "metadata": {},
   "outputs": [
    {
     "data": {
      "text/plain": [
       "<Axes: xlabel='Admission_Deposit', ylabel='Density'>"
      ]
     },
     "execution_count": 27,
     "metadata": {},
     "output_type": "execute_result"
    },
    {
     "data": {
      "image/png": "[encoded data removed]",
      "text/plain": [
       "<Figure size 640x480 with 1 Axes>"
      ]
     },
     "metadata": {},
     "output_type": "display_data"
    }
   ],
   "source": [
    "kdeplot(x=df_train['Admission_Deposit'], data=df_train)"
   ]
  },
  {
   "cell_type": "code",
   "execution_count": null,
   "id": "8b40df68",
   "metadata": {},
   "outputs": [],
   "source": [
    "plot_dists(df_train.drop(['case_id', 'patientid'], axis=1))"
   ]
  },
  {
   "cell_type": "markdown",
   "id": "16b48887",
   "metadata": {},
   "source": [
    "There is high cardinality in categorical variables. Paiwise correlation needs to be assesed to try and trim predictors before 1 hot encoding\n"
   ]
  },
  {
   "cell_type": "code",
   "execution_count": 31,
   "id": "cb865814",
   "metadata": {},
   "outputs": [],
   "source": [
    "categorical_columns = [\n",
    "    'Hospital_code',\n",
    "    'Hospital_type_code', \n",
    "    'City_Code_Hospital',\n",
    "    'Hospital_region_code', \n",
    "    'Department', \n",
    "    'Ward_Type', \n",
    "    'Ward_Facility_Code', \n",
    "    'Bed Grade',\n",
    "    'City_Code_Patient', \n",
    "    'Type of Admission',\n",
    "    'Severity of Illness', \n",
    "    ]"
   ]
  },
  {
   "cell_type": "code",
   "execution_count": 88,
   "id": "8ba2ebb0",
   "metadata": {},
   "outputs": [
    {
     "ename": "ValueError",
     "evalue": "For each axis slice, the sum of the observed frequencies must agree with the sum of the expected frequencies to a relative tolerance of 1.4901161193847656e-08, but the percent differences are:\n[0.         3.15975223 1.89188453 5.45966295 4.11002463 6.14678561\n 4.16164572 6.21667696 1.73992817 6.92669909 5.75649563]",
     "output_type": "error",
     "traceback": [
      "\u001b[31m---------------------------------------------------------------------------\u001b[39m",
      "\u001b[31mValueError\u001b[39m                                Traceback (most recent call last)",
      "\u001b[32m~\\AppData\\Local\\Temp\\ipykernel_27660\\1495168062.py\u001b[39m in \u001b[36m?\u001b[39m\u001b[34m()\u001b[39m\n\u001b[32m      8\u001b[39m \u001b[38;5;66;03m#     return chisquare(f_obs, np.sum(f_obs)/np.sum(f_exp) * f_exp, axis=1)\u001b[39;00m\n\u001b[32m      9\u001b[39m \n\u001b[32m     10\u001b[39m \n\u001b[32m     11\u001b[39m \n\u001b[32m---> \u001b[39m\u001b[32m12\u001b[39m pd.DataFrame([chisquare(f_obs=df_train_cat[x].values, f_exp=df_train_cat.values.T, axis=\u001b[32m1\u001b[39m)[\u001b[32m0\u001b[39m] \u001b[38;5;28;01mfor\u001b[39;00m x \u001b[38;5;28;01min\u001b[39;00m df_train_cat])\n\u001b[32m     13\u001b[39m \n\u001b[32m     14\u001b[39m \n",
      "\u001b[32mg:\\data_projects\\healthcare_data_predict_stay\\.venv\\Lib\\site-packages\\scipy\\stats\\_axis_nan_policy.py\u001b[39m in \u001b[36m?\u001b[39m\u001b[34m(***failed resolving arguments***)\u001b[39m\n\u001b[32m    607\u001b[39m             \u001b[38;5;28;01melse\u001b[39;00m:\n\u001b[32m    608\u001b[39m                 contains_nan = \u001b[38;5;28;01mFalse\u001b[39;00m  \u001b[38;5;66;03m# behave like there are no NaNs\u001b[39;00m\n\u001b[32m    609\u001b[39m \n\u001b[32m    610\u001b[39m             \u001b[38;5;28;01mif\u001b[39;00m vectorized \u001b[38;5;28;01mand\u001b[39;00m \u001b[38;5;28;01mnot\u001b[39;00m contains_nan \u001b[38;5;28;01mand\u001b[39;00m \u001b[38;5;28;01mnot\u001b[39;00m sentinel:\n\u001b[32m--> \u001b[39m\u001b[32m611\u001b[39m                 res = hypotest_fun_out(*samples, axis=axis, **kwds)\n\u001b[32m    612\u001b[39m                 res = result_to_tuple(res, n_out)\n\u001b[32m    613\u001b[39m                 res = _add_reduced_axes(res, reduced_axes, keepdims)\n\u001b[32m    614\u001b[39m                 \u001b[38;5;28;01mreturn\u001b[39;00m tuple_to_result(*res)\n",
      "\u001b[32mg:\\data_projects\\healthcare_data_predict_stay\\.venv\\Lib\\site-packages\\scipy\\stats\\_stats_py.py\u001b[39m in \u001b[36m?\u001b[39m\u001b[34m(f_obs, f_exp, ddof, axis, sum_check)\u001b[39m\n\u001b[32m   7570\u001b[39m     Power_divergenceResult(statistic=array([\u001b[32m3.5\u001b[39m , \u001b[32m9.25\u001b[39m]), pvalue=array([\u001b[32m0.62338763\u001b[39m, \u001b[32m0.09949846\u001b[39m]))\n\u001b[32m   7571\u001b[39m \n\u001b[32m   7572\u001b[39m     For a more detailed example, see :ref:`hypothesis_chisquare`.\n\u001b[32m   7573\u001b[39m     \"\"\"  # noqa: E501\n\u001b[32m-> \u001b[39m\u001b[32m7574\u001b[39m     return _power_divergence(f_obs, f_exp=f_exp, ddof=ddof, axis=axis,\n\u001b[32m   7575\u001b[39m                              lambda_=\u001b[33m\"pearson\"\u001b[39m, sum_check=sum_check)\n",
      "\u001b[32mg:\\data_projects\\healthcare_data_predict_stay\\.venv\\Lib\\site-packages\\scipy\\stats\\_stats_py.py\u001b[39m in \u001b[36m?\u001b[39m\u001b[34m(f_obs, f_exp, ddof, axis, lambda_, sum_check)\u001b[39m\n\u001b[32m   7383\u001b[39m                        f\"frequencies must agree with the sum of the \"\n\u001b[32m   7384\u001b[39m                        f\"expected frequencies to a relative tolerance \"\n\u001b[32m   7385\u001b[39m                        f\"of {rtol}, but the percent differences are:\\n\"\n\u001b[32m   7386\u001b[39m                        f\"{relative_diff}\")\n\u001b[32m-> \u001b[39m\u001b[32m7387\u001b[39m                 \u001b[38;5;28;01mraise\u001b[39;00m ValueError(msg)\n\u001b[32m   7388\u001b[39m \n\u001b[32m   7389\u001b[39m     \u001b[38;5;28;01melse\u001b[39;00m:\n\u001b[32m   7390\u001b[39m         \u001b[38;5;66;03m# Avoid warnings with the edge case of a data set with length 0\u001b[39;00m\n",
      "\u001b[31mValueError\u001b[39m: For each axis slice, the sum of the observed frequencies must agree with the sum of the expected frequencies to a relative tolerance of 1.4901161193847656e-08, but the percent differences are:\n[0.         3.15975223 1.89188453 5.45966295 4.11002463 6.14678561\n 4.16164572 6.21667696 1.73992817 6.92669909 5.75649563]"
     ]
    }
   ],
   "source": [
    "from scipy.stats import chisquare\n",
    "\n",
    "df_train_cat = df_train[categorical_columns].apply(lambda x : pd.factorize(x)[0])+1\n",
    "\n",
    "df_train_cat\n",
    "\n",
    "# def cs(f_obs, f_exp):\n",
    "#     return chisquare(f_obs, np.sum(f_obs)/np.sum(f_exp) * f_exp, axis=1)\n",
    "\n",
    "\n",
    "\n",
    "pd.DataFrame([chisquare(f_obs=df_train_cat[x].values, f_exp=df_train_cat.values.T, axis=1)[0] for x in df_train_cat])\n",
    "\n",
    "\n"
   ]
  },
  {
   "cell_type": "code",
   "execution_count": 86,
   "id": "5befc772",
   "metadata": {},
   "outputs": [
    {
     "data": {
      "text/html": [
       "<div>\n",
       "<style scoped>\n",
       "    .dataframe tbody tr th:only-of-type {\n",
       "        vertical-align: middle;\n",
       "    }\n",
       "\n",
       "    .dataframe tbody tr th {\n",
       "        vertical-align: top;\n",
       "    }\n",
       "\n",
       "    .dataframe thead th {\n",
       "        text-align: right;\n",
       "    }\n",
       "</style>\n",
       "<table border=\"1\" class=\"dataframe\">\n",
       "  <thead>\n",
       "    <tr style=\"text-align: right;\">\n",
       "      <th></th>\n",
       "      <th>a</th>\n",
       "      <th>c</th>\n",
       "      <th>d</th>\n",
       "    </tr>\n",
       "  </thead>\n",
       "  <tbody>\n",
       "    <tr>\n",
       "      <th>0</th>\n",
       "      <td>a</td>\n",
       "      <td>a</td>\n",
       "      <td>a</td>\n",
       "    </tr>\n",
       "    <tr>\n",
       "      <th>1</th>\n",
       "      <td>a</td>\n",
       "      <td>a</td>\n",
       "      <td>b</td>\n",
       "    </tr>\n",
       "    <tr>\n",
       "      <th>2</th>\n",
       "      <td>c</td>\n",
       "      <td>c</td>\n",
       "      <td>c</td>\n",
       "    </tr>\n",
       "  </tbody>\n",
       "</table>\n",
       "</div>"
      ],
      "text/plain": [
       "   a  c  d\n",
       "0  a  a  a\n",
       "1  a  a  b\n",
       "2  c  c  c"
      ]
     },
     "execution_count": 86,
     "metadata": {},
     "output_type": "execute_result"
    }
   ],
   "source": [
    "df=pd.DataFrame({'a':['a','a','c'],'c':['a','a','c'],'d':['a','b','c']})\n",
    "df"
   ]
  },
  {
   "cell_type": "code",
   "execution_count": 87,
   "id": "8dbbe368",
   "metadata": {},
   "outputs": [
    {
     "name": "stdout",
     "output_type": "stream",
     "text": [
      "[[1 1 2]\n",
      " [1 1 2]\n",
      " [1 2 3]]\n"
     ]
    },
    {
     "ename": "ValueError",
     "evalue": "For each axis slice, the sum of the observed frequencies must agree with the sum of the expected frequencies to a relative tolerance of 1.4901161193847656e-08, but the percent differences are:\n[0.  0.  0.5]",
     "output_type": "error",
     "traceback": [
      "\u001b[31m---------------------------------------------------------------------------\u001b[39m",
      "\u001b[31mValueError\u001b[39m                                Traceback (most recent call last)",
      "\u001b[32m~\\AppData\\Local\\Temp\\ipykernel_27660\\1061644682.py\u001b[39m in \u001b[36m?\u001b[39m\u001b[34m()\u001b[39m\n\u001b[32m      2\u001b[39m df\n\u001b[32m      3\u001b[39m \n\u001b[32m      4\u001b[39m print(df.values.T)\n\u001b[32m      5\u001b[39m \n\u001b[32m----> \u001b[39m\u001b[32m6\u001b[39m pd.DataFrame([chisquare(df[x].values,f_exp=df.values.T,axis=\u001b[32m1\u001b[39m)[\u001b[32m0\u001b[39m] \u001b[38;5;28;01mfor\u001b[39;00m x \u001b[38;5;28;01min\u001b[39;00m df])\n",
      "\u001b[32mg:\\data_projects\\healthcare_data_predict_stay\\.venv\\Lib\\site-packages\\scipy\\stats\\_axis_nan_policy.py\u001b[39m in \u001b[36m?\u001b[39m\u001b[34m(***failed resolving arguments***)\u001b[39m\n\u001b[32m    607\u001b[39m             \u001b[38;5;28;01melse\u001b[39;00m:\n\u001b[32m    608\u001b[39m                 contains_nan = \u001b[38;5;28;01mFalse\u001b[39;00m  \u001b[38;5;66;03m# behave like there are no NaNs\u001b[39;00m\n\u001b[32m    609\u001b[39m \n\u001b[32m    610\u001b[39m             \u001b[38;5;28;01mif\u001b[39;00m vectorized \u001b[38;5;28;01mand\u001b[39;00m \u001b[38;5;28;01mnot\u001b[39;00m contains_nan \u001b[38;5;28;01mand\u001b[39;00m \u001b[38;5;28;01mnot\u001b[39;00m sentinel:\n\u001b[32m--> \u001b[39m\u001b[32m611\u001b[39m                 res = hypotest_fun_out(*samples, axis=axis, **kwds)\n\u001b[32m    612\u001b[39m                 res = result_to_tuple(res, n_out)\n\u001b[32m    613\u001b[39m                 res = _add_reduced_axes(res, reduced_axes, keepdims)\n\u001b[32m    614\u001b[39m                 \u001b[38;5;28;01mreturn\u001b[39;00m tuple_to_result(*res)\n",
      "\u001b[32mg:\\data_projects\\healthcare_data_predict_stay\\.venv\\Lib\\site-packages\\scipy\\stats\\_stats_py.py\u001b[39m in \u001b[36m?\u001b[39m\u001b[34m(f_obs, f_exp, ddof, axis, sum_check)\u001b[39m\n\u001b[32m   7570\u001b[39m     Power_divergenceResult(statistic=array([\u001b[32m3.5\u001b[39m , \u001b[32m9.25\u001b[39m]), pvalue=array([\u001b[32m0.62338763\u001b[39m, \u001b[32m0.09949846\u001b[39m]))\n\u001b[32m   7571\u001b[39m \n\u001b[32m   7572\u001b[39m     For a more detailed example, see :ref:`hypothesis_chisquare`.\n\u001b[32m   7573\u001b[39m     \"\"\"  # noqa: E501\n\u001b[32m-> \u001b[39m\u001b[32m7574\u001b[39m     return _power_divergence(f_obs, f_exp=f_exp, ddof=ddof, axis=axis,\n\u001b[32m   7575\u001b[39m                              lambda_=\u001b[33m\"pearson\"\u001b[39m, sum_check=sum_check)\n",
      "\u001b[32mg:\\data_projects\\healthcare_data_predict_stay\\.venv\\Lib\\site-packages\\scipy\\stats\\_stats_py.py\u001b[39m in \u001b[36m?\u001b[39m\u001b[34m(f_obs, f_exp, ddof, axis, lambda_, sum_check)\u001b[39m\n\u001b[32m   7383\u001b[39m                        f\"frequencies must agree with the sum of the \"\n\u001b[32m   7384\u001b[39m                        f\"expected frequencies to a relative tolerance \"\n\u001b[32m   7385\u001b[39m                        f\"of {rtol}, but the percent differences are:\\n\"\n\u001b[32m   7386\u001b[39m                        f\"{relative_diff}\")\n\u001b[32m-> \u001b[39m\u001b[32m7387\u001b[39m                 \u001b[38;5;28;01mraise\u001b[39;00m ValueError(msg)\n\u001b[32m   7388\u001b[39m \n\u001b[32m   7389\u001b[39m     \u001b[38;5;28;01melse\u001b[39;00m:\n\u001b[32m   7390\u001b[39m         \u001b[38;5;66;03m# Avoid warnings with the edge case of a data set with length 0\u001b[39;00m\n",
      "\u001b[31mValueError\u001b[39m: For each axis slice, the sum of the observed frequencies must agree with the sum of the expected frequencies to a relative tolerance of 1.4901161193847656e-08, but the percent differences are:\n[0.  0.  0.5]"
     ]
    }
   ],
   "source": [
    "df=df.apply(lambda x : pd.factorize(x)[0])+1\n",
    "df\n",
    "\n",
    "print(df.values.T)\n",
    "\n",
    "pd.DataFrame([chisquare(df[x].values,f_exp=df.values.T,axis=1)[0] for x in df])\n"
   ]
  },
  {
   "cell_type": "code",
   "execution_count": 70,
   "id": "3e71ff4c",
   "metadata": {},
   "outputs": [
    {
     "name": "stdout",
     "output_type": "stream",
     "text": [
      "[1 2 3]\n",
      "[[1 2 3]\n",
      " [1 2 3]\n",
      " [1 2 3]]\n"
     ]
    }
   ],
   "source": [
    "print(df['a'].values)\n",
    "\n",
    "print(df.values.T)"
   ]
  }
 ],
 "metadata": {
  "kernelspec": {
   "display_name": ".venv (3.13.3)",
   "language": "python",
   "name": "python3"
  },
  "language_info": {
   "codemirror_mode": {
    "name": "ipython",
    "version": 3
   },
   "file_extension": ".py",
   "mimetype": "text/x-python",
   "name": "python",
   "nbconvert_exporter": "python",
   "pygments_lexer": "ipython3",
   "version": "3.13.3"
  }
 },
 "nbformat": 4,
 "nbformat_minor": 5
}
