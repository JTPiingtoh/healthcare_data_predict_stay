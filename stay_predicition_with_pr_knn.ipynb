{
 "cells": [
  {
   "cell_type": "markdown",
   "id": "71775504",
   "metadata": {},
   "source": [
    "This notebook will try to explore the effectiveness of prknn vs standard knn models for prediction on an inbalanced dataset.   "
   ]
  },
  {
   "cell_type": "code",
   "execution_count": 290,
   "id": "6e607814",
   "metadata": {},
   "outputs": [],
   "source": [
    "import numpy as np\n",
    "import pandas as pd\n",
    "import matplotlib.pyplot as plt\n",
    "\n",
    "from tqdm import tqdm\n",
    "\n",
    "from sklearn.neighbors import KNeighborsClassifier\n",
    "\n",
    "from sklearn.preprocessing import OneHotEncoder, OrdinalEncoder, MinMaxScaler, TargetEncoder\n",
    "\n",
    "from sklearn.impute import KNNImputer\n",
    "\n",
    "from sklearn.pipeline import Pipeline, FeatureUnion\n",
    "from sklearn.compose import ColumnTransformer\n",
    "\n",
    "from sklearn.model_selection import cross_validate\n",
    "from sklearn.model_selection import train_test_split\n",
    "from sklearn.compose import TransformedTargetRegressor\n",
    "\n",
    "from sklearn.metrics import f1_score, precision_score, recall_score, accuracy_score\n",
    "\n",
    "from test_class import PRKNeighborsClassifier\n",
    "from tqdm import tqdm"
   ]
  },
  {
   "cell_type": "code",
   "execution_count": 291,
   "id": "564db0c9",
   "metadata": {},
   "outputs": [],
   "source": [
    "RANDOM_STATE = 33"
   ]
  },
  {
   "cell_type": "code",
   "execution_count": 292,
   "id": "b2f4d773",
   "metadata": {},
   "outputs": [],
   "source": [
    "df= pd.read_csv('train_data.csv')"
   ]
  },
  {
   "cell_type": "code",
   "execution_count": 293,
   "id": "90e98909",
   "metadata": {},
   "outputs": [
    {
     "data": {
      "text/html": [
       "<div>\n",
       "<style scoped>\n",
       "    .dataframe tbody tr th:only-of-type {\n",
       "        vertical-align: middle;\n",
       "    }\n",
       "\n",
       "    .dataframe tbody tr th {\n",
       "        vertical-align: top;\n",
       "    }\n",
       "\n",
       "    .dataframe thead th {\n",
       "        text-align: right;\n",
       "    }\n",
       "</style>\n",
       "<table border=\"1\" class=\"dataframe\">\n",
       "  <thead>\n",
       "    <tr style=\"text-align: right;\">\n",
       "      <th></th>\n",
       "      <th>case_id</th>\n",
       "      <th>Hospital_code</th>\n",
       "      <th>Hospital_type_code</th>\n",
       "      <th>City_Code_Hospital</th>\n",
       "      <th>Hospital_region_code</th>\n",
       "      <th>Available Extra Rooms in Hospital</th>\n",
       "      <th>Department</th>\n",
       "      <th>Ward_Type</th>\n",
       "      <th>Ward_Facility_Code</th>\n",
       "      <th>Bed Grade</th>\n",
       "      <th>patientid</th>\n",
       "      <th>City_Code_Patient</th>\n",
       "      <th>Type of Admission</th>\n",
       "      <th>Severity of Illness</th>\n",
       "      <th>Visitors with Patient</th>\n",
       "      <th>Age</th>\n",
       "      <th>Admission_Deposit</th>\n",
       "      <th>Stay</th>\n",
       "    </tr>\n",
       "  </thead>\n",
       "  <tbody>\n",
       "    <tr>\n",
       "      <th>0</th>\n",
       "      <td>1</td>\n",
       "      <td>8</td>\n",
       "      <td>c</td>\n",
       "      <td>3</td>\n",
       "      <td>Z</td>\n",
       "      <td>3</td>\n",
       "      <td>radiotherapy</td>\n",
       "      <td>R</td>\n",
       "      <td>F</td>\n",
       "      <td>2.0</td>\n",
       "      <td>31397</td>\n",
       "      <td>7.0</td>\n",
       "      <td>Emergency</td>\n",
       "      <td>Extreme</td>\n",
       "      <td>2</td>\n",
       "      <td>51-60</td>\n",
       "      <td>4911.0</td>\n",
       "      <td>0-10</td>\n",
       "    </tr>\n",
       "    <tr>\n",
       "      <th>1</th>\n",
       "      <td>2</td>\n",
       "      <td>2</td>\n",
       "      <td>c</td>\n",
       "      <td>5</td>\n",
       "      <td>Z</td>\n",
       "      <td>2</td>\n",
       "      <td>radiotherapy</td>\n",
       "      <td>S</td>\n",
       "      <td>F</td>\n",
       "      <td>2.0</td>\n",
       "      <td>31397</td>\n",
       "      <td>7.0</td>\n",
       "      <td>Trauma</td>\n",
       "      <td>Extreme</td>\n",
       "      <td>2</td>\n",
       "      <td>51-60</td>\n",
       "      <td>5954.0</td>\n",
       "      <td>41-50</td>\n",
       "    </tr>\n",
       "    <tr>\n",
       "      <th>2</th>\n",
       "      <td>3</td>\n",
       "      <td>10</td>\n",
       "      <td>e</td>\n",
       "      <td>1</td>\n",
       "      <td>X</td>\n",
       "      <td>2</td>\n",
       "      <td>anesthesia</td>\n",
       "      <td>S</td>\n",
       "      <td>E</td>\n",
       "      <td>2.0</td>\n",
       "      <td>31397</td>\n",
       "      <td>7.0</td>\n",
       "      <td>Trauma</td>\n",
       "      <td>Extreme</td>\n",
       "      <td>2</td>\n",
       "      <td>51-60</td>\n",
       "      <td>4745.0</td>\n",
       "      <td>31-40</td>\n",
       "    </tr>\n",
       "    <tr>\n",
       "      <th>3</th>\n",
       "      <td>4</td>\n",
       "      <td>26</td>\n",
       "      <td>b</td>\n",
       "      <td>2</td>\n",
       "      <td>Y</td>\n",
       "      <td>2</td>\n",
       "      <td>radiotherapy</td>\n",
       "      <td>R</td>\n",
       "      <td>D</td>\n",
       "      <td>2.0</td>\n",
       "      <td>31397</td>\n",
       "      <td>7.0</td>\n",
       "      <td>Trauma</td>\n",
       "      <td>Extreme</td>\n",
       "      <td>2</td>\n",
       "      <td>51-60</td>\n",
       "      <td>7272.0</td>\n",
       "      <td>41-50</td>\n",
       "    </tr>\n",
       "    <tr>\n",
       "      <th>4</th>\n",
       "      <td>5</td>\n",
       "      <td>26</td>\n",
       "      <td>b</td>\n",
       "      <td>2</td>\n",
       "      <td>Y</td>\n",
       "      <td>2</td>\n",
       "      <td>radiotherapy</td>\n",
       "      <td>S</td>\n",
       "      <td>D</td>\n",
       "      <td>2.0</td>\n",
       "      <td>31397</td>\n",
       "      <td>7.0</td>\n",
       "      <td>Trauma</td>\n",
       "      <td>Extreme</td>\n",
       "      <td>2</td>\n",
       "      <td>51-60</td>\n",
       "      <td>5558.0</td>\n",
       "      <td>41-50</td>\n",
       "    </tr>\n",
       "  </tbody>\n",
       "</table>\n",
       "</div>"
      ],
      "text/plain": [
       "   case_id  Hospital_code Hospital_type_code  City_Code_Hospital  \\\n",
       "0        1              8                  c                   3   \n",
       "1        2              2                  c                   5   \n",
       "2        3             10                  e                   1   \n",
       "3        4             26                  b                   2   \n",
       "4        5             26                  b                   2   \n",
       "\n",
       "  Hospital_region_code  Available Extra Rooms in Hospital    Department  \\\n",
       "0                    Z                                  3  radiotherapy   \n",
       "1                    Z                                  2  radiotherapy   \n",
       "2                    X                                  2    anesthesia   \n",
       "3                    Y                                  2  radiotherapy   \n",
       "4                    Y                                  2  radiotherapy   \n",
       "\n",
       "  Ward_Type Ward_Facility_Code  Bed Grade  patientid  City_Code_Patient  \\\n",
       "0         R                  F        2.0      31397                7.0   \n",
       "1         S                  F        2.0      31397                7.0   \n",
       "2         S                  E        2.0      31397                7.0   \n",
       "3         R                  D        2.0      31397                7.0   \n",
       "4         S                  D        2.0      31397                7.0   \n",
       "\n",
       "  Type of Admission Severity of Illness  Visitors with Patient    Age  \\\n",
       "0         Emergency             Extreme                      2  51-60   \n",
       "1            Trauma             Extreme                      2  51-60   \n",
       "2            Trauma             Extreme                      2  51-60   \n",
       "3            Trauma             Extreme                      2  51-60   \n",
       "4            Trauma             Extreme                      2  51-60   \n",
       "\n",
       "   Admission_Deposit   Stay  \n",
       "0             4911.0   0-10  \n",
       "1             5954.0  41-50  \n",
       "2             4745.0  31-40  \n",
       "3             7272.0  41-50  \n",
       "4             5558.0  41-50  "
      ]
     },
     "execution_count": 293,
     "metadata": {},
     "output_type": "execute_result"
    }
   ],
   "source": [
    "df.head()"
   ]
  },
  {
   "cell_type": "code",
   "execution_count": 294,
   "id": "023b307f",
   "metadata": {},
   "outputs": [],
   "source": [
    "columns_to_drop = [\n",
    "    \"Hospital_region_code\",\n",
    "    \"Ward_Facility_Code\",\n",
    "    \"case_id\",\n",
    "    \"patientid\",\n",
    "    \"Hospital_code\",\n",
    "    \"City_Code_Patient\",\n",
    "    \"Admission_Deposit\",\n",
    "    \"Available Extra Rooms in Hospital\",\n",
    "    \"Bed Grade\",\n",
    "    \"City_Code_Hospital\",\n",
    "    \"Visitors with Patient\",\n",
    "    \"Hospital_type_code\",\n",
    "    \"Type of Admission\",\n",
    "    \"Department\"\n",
    "]\n",
    "\n",
    "df = df.drop(columns_to_drop, axis=1)"
   ]
  },
  {
   "cell_type": "code",
   "execution_count": 295,
   "id": "7b05e556",
   "metadata": {},
   "outputs": [
    {
     "data": {
      "text/plain": [
       "Ward_Type              0\n",
       "Severity of Illness    0\n",
       "Age                    0\n",
       "Stay                   0\n",
       "dtype: int64"
      ]
     },
     "execution_count": 295,
     "metadata": {},
     "output_type": "execute_result"
    }
   ],
   "source": [
    "df.isna().sum()"
   ]
  },
  {
   "cell_type": "markdown",
   "id": "d0cf6835",
   "metadata": {},
   "source": [
    "For categoric variables, I am going to use frequency encoding, due to the high number of categoric features and their high cardinality. I am also concerned that target encoding may lead to data leakage due to the low frequencies of the target variable. While other techniques may be better, the aim is to test the effectiveness of prknn compared to knn."
   ]
  },
  {
   "cell_type": "code",
   "execution_count": 296,
   "id": "2a6a827b",
   "metadata": {},
   "outputs": [],
   "source": [
    "categoric_columns = [\n",
    "    'Hospital_type_code',\n",
    "    'City_Code_Hospital',\n",
    "    'Department', \n",
    "    'Ward_Type',\n",
    "    'City_Code_Patient', \n",
    "    'Type of Admission'\n",
    "]\n",
    "\n",
    "ordinal_columns = [\n",
    "    'Bed Grade',\n",
    "    'Severity of Illness'\n",
    "]\n",
    "\n",
    "cont_columns = [\n",
    "    'Available Extra Rooms in Hospital',\n",
    "    'Visitors with Patient',\n",
    "    'Age',\n",
    "    'Admission_Deposit'\n",
    "]"
   ]
  },
  {
   "cell_type": "code",
   "execution_count": 297,
   "id": "c1ddb830",
   "metadata": {},
   "outputs": [],
   "source": [
    "def remove_fields(cols:list, columns_to_drop):\n",
    "\n",
    "    cols2 = []\n",
    "\n",
    "    for col in cols:\n",
    "        if not col in columns_to_drop:\n",
    "            cols2.append(col)\n",
    "            # print(cols)\n",
    "\n",
    "    return cols2"
   ]
  },
  {
   "cell_type": "code",
   "execution_count": 298,
   "id": "9fe3f787",
   "metadata": {},
   "outputs": [],
   "source": [
    "categoric_columns = remove_fields(categoric_columns, columns_to_drop) \n",
    "ordinal_columns = remove_fields(ordinal_columns, columns_to_drop)\n",
    "cont_columns = remove_fields(cont_columns, columns_to_drop)"
   ]
  },
  {
   "cell_type": "code",
   "execution_count": 299,
   "id": "8abb242e",
   "metadata": {},
   "outputs": [
    {
     "data": {
      "text/plain": [
       "['Ward_Type']"
      ]
     },
     "execution_count": 299,
     "metadata": {},
     "output_type": "execute_result"
    }
   ],
   "source": [
    "categoric_columns"
   ]
  },
  {
   "cell_type": "code",
   "execution_count": 300,
   "id": "bb64614c",
   "metadata": {},
   "outputs": [],
   "source": [
    "col_transformer = ColumnTransformer(\n",
    "    transformers=[\n",
    "        ('target', TargetEncoder(), categoric_columns),\n",
    "        ('ordinal', OrdinalEncoder(handle_unknown='use_encoded_value', unknown_value=-1), ordinal_columns)\n",
    "    ]\n",
    ")\n",
    "\n",
    "prknn_pipeline_list = [\n",
    "    ('col_transform', col_transformer),\n",
    "    ('scaler', MinMaxScaler()),\n",
    "    ('knn_imputer', KNNImputer(n_neighbors=10, weights='distance')),\n",
    "    ('prknn_predictor', PRKNeighborsClassifier(base_knn_params={\"n_neighbors\": 3}))\n",
    "]\n",
    "\n",
    "knn_pipeline_list = [\n",
    "    ('col_transform', col_transformer),\n",
    "    ('scaler', MinMaxScaler()),\n",
    "    ('knn_imputer', KNNImputer(n_neighbors=10, weights='distance')),\n",
    "    ('knn_predictor', KNeighborsClassifier(n_neighbors=3))\n",
    "]\n",
    "\n",
    "\n",
    "prknn_pipeline = Pipeline(prknn_pipeline_list)\n",
    "knn_pipeline = Pipeline(knn_pipeline_list)"
   ]
  },
  {
   "cell_type": "code",
   "execution_count": 303,
   "id": "1aba27b4",
   "metadata": {},
   "outputs": [
    {
     "data": {
      "text/plain": [
       "0.225"
      ]
     },
     "execution_count": 303,
     "metadata": {},
     "output_type": "execute_result"
    }
   ],
   "source": [
    "\n",
    "df_sample = df.sample(5_000)\n",
    "\n",
    "X = df_sample.drop('Stay', axis=1)\n",
    "y = df_sample['Stay']\n",
    "\n",
    "X_train, X_test, y_train, y_test = train_test_split(X, y, train_size=0.8, random_state=RANDOM_STATE)\n",
    "ordinal_encoder = OrdinalEncoder()\n",
    "\n",
    "y_train = ordinal_encoder.fit_transform(pd.DataFrame(y_train)).ravel()\n",
    "y_test = ordinal_encoder.fit_transform(pd.DataFrame(y_test)).ravel()\n",
    "\n",
    "# knn_pipeline.fit(X_train, y_train)\n",
    "prknn_pipeline.fit(X_train, y_train)\n",
    "\n",
    "# y_pred_knn = knn_pipeline.predict(X_test)\n",
    "y_pred_prknn = prknn_pipeline.predict(X_test)\n",
    "\n",
    "f1_score(y_test, y_pred_prknn, average='micro')\n"
   ]
  }
 ],
 "metadata": {
  "kernelspec": {
   "display_name": "venv",
   "language": "python",
   "name": "python3"
  },
  "language_info": {
   "codemirror_mode": {
    "name": "ipython",
    "version": 3
   },
   "file_extension": ".py",
   "mimetype": "text/x-python",
   "name": "python",
   "nbconvert_exporter": "python",
   "pygments_lexer": "ipython3",
   "version": "3.12.3"
  }
 },
 "nbformat": 4,
 "nbformat_minor": 5
}
