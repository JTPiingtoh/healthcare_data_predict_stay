{
 "cells": [
  {
   "cell_type": "markdown",
   "id": "71775504",
   "metadata": {},
   "source": [
    "This notebook will try to explore the effectiveness of prknn vs standard knn models for prediction on an inbalanced dataset.   "
   ]
  },
  {
   "cell_type": "code",
   "execution_count": 31,
   "id": "6e607814",
   "metadata": {},
   "outputs": [],
   "source": [
    "import numpy as np\n",
    "import pandas as pd\n",
    "import matplotlib.pyplot as plt\n",
    "\n",
    "from tqdm import tqdm\n",
    "\n",
    "from sklearn.neighbors import KNeighborsClassifier\n",
    "\n",
    "from sklearn.preprocessing import OneHotEncoder, OrdinalEncoder, MinMaxScaler, TargetEncoder\n",
    "\n",
    "from sklearn.impute import KNNImputer\n",
    "\n",
    "from sklearn.pipeline import Pipeline, FeatureUnion\n",
    "from sklearn.compose import ColumnTransformer\n",
    "\n",
    "from sklearn.model_selection import cross_validate\n",
    "from sklearn.model_selection import train_test_split\n",
    "from sklearn.compose import TransformedTargetRegressor\n",
    "\n",
    "from sklearn.metrics import f1_score, precision_score, recall_score, accuracy_score\n",
    "\n",
    "from test_class import PRKNeighborsClassifier\n",
    "from tqdm import tqdm"
   ]
  },
  {
   "cell_type": "code",
   "execution_count": 32,
   "id": "564db0c9",
   "metadata": {},
   "outputs": [],
   "source": [
    "RANDOM_STATE = 33"
   ]
  },
  {
   "cell_type": "code",
   "execution_count": 33,
   "id": "b2f4d773",
   "metadata": {},
   "outputs": [],
   "source": [
    "df= pd.read_csv('train_data.csv')"
   ]
  },
  {
   "cell_type": "code",
   "execution_count": 34,
   "id": "023b307f",
   "metadata": {},
   "outputs": [],
   "source": [
    "columns_to_drop = [\n",
    "    \"Hospital_region_code\",\n",
    "    \"Ward_Facility_Code\",\n",
    "    \"case_id\",\n",
    "    \"patientid\",\n",
    "    \"Hospital_code\",\n",
    "]\n",
    "\n",
    "df = df.drop(columns_to_drop, axis=1)"
   ]
  },
  {
   "cell_type": "code",
   "execution_count": 35,
   "id": "7b05e556",
   "metadata": {},
   "outputs": [
    {
     "data": {
      "text/plain": [
       "Hospital_type_code                      0\n",
       "City_Code_Hospital                      0\n",
       "Available Extra Rooms in Hospital       0\n",
       "Department                              0\n",
       "Ward_Type                               0\n",
       "Bed Grade                             113\n",
       "City_Code_Patient                    4532\n",
       "Type of Admission                       0\n",
       "Severity of Illness                     0\n",
       "Visitors with Patient                   0\n",
       "Age                                     0\n",
       "Admission_Deposit                       0\n",
       "Stay                                    0\n",
       "dtype: int64"
      ]
     },
     "execution_count": 35,
     "metadata": {},
     "output_type": "execute_result"
    }
   ],
   "source": [
    "df.isna().sum()"
   ]
  },
  {
   "cell_type": "markdown",
   "id": "d0cf6835",
   "metadata": {},
   "source": [
    "For categoric variables, I am going to use frequency encoding, due to the high number of categoric features and their high cardinality. I am also concerned that target encoding may lead to data leakage due to the low frequencies of the target variable. While other techniques may be better, the aim is to test the effectiveness of prknn compared to knn."
   ]
  },
  {
   "cell_type": "code",
   "execution_count": 36,
   "id": "2a6a827b",
   "metadata": {},
   "outputs": [],
   "source": [
    "categoric_columns = [\n",
    "    'Hospital_type_code',\n",
    "    'City_Code_Hospital',\n",
    "    'Department', \n",
    "    'Ward_Type',\n",
    "    'City_Code_Patient', \n",
    "    'Type of Admission'\n",
    "]\n",
    "\n",
    "ordinal_columns = [\n",
    "    'Bed Grade',\n",
    "    'Severity of Illness'\n",
    "]\n",
    "\n",
    "cont_columns = [\n",
    "    'Available Extra Rooms in Hospital',\n",
    "    'Visitors with Patient',\n",
    "    'Age',\n",
    "    'Admission_Deposit'\n",
    "]"
   ]
  },
  {
   "cell_type": "code",
   "execution_count": 50,
   "id": "bb64614c",
   "metadata": {},
   "outputs": [],
   "source": [
    "col_transformer = ColumnTransformer(\n",
    "    transformers=[\n",
    "        ('target', TargetEncoder(), categoric_columns),\n",
    "        ('ordinal', OrdinalEncoder(handle_unknown='use_encoded_value', unknown_value=-1), ordinal_columns)\n",
    "    ]\n",
    ")\n",
    "\n",
    "prknn_pipeline_list = [\n",
    "    ('col_transform', col_transformer),\n",
    "    ('scaler', MinMaxScaler()),\n",
    "    ('knn_imputer', KNNImputer(n_neighbors=10, weights='distance')),\n",
    "    ('prknn_predictor', PRKNeighborsClassifier())\n",
    "]\n",
    "\n",
    "knn_pipeline_list = [\n",
    "    ('col_transform', col_transformer),\n",
    "    ('scaler', MinMaxScaler()),\n",
    "    ('knn_imputer', KNNImputer(n_neighbors=10, weights='distance')),\n",
    "    ('knn_predictor', KNeighborsClassifier(weights='distance'))\n",
    "]\n",
    "\n",
    "\n",
    "prknn_pipeline = Pipeline(prknn_pipeline_list)\n",
    "knn_pipeline = Pipeline(knn_pipeline_list)"
   ]
  },
  {
   "cell_type": "code",
   "execution_count": 51,
   "id": "3fe4db24",
   "metadata": {},
   "outputs": [
    {
     "data": {
      "text/plain": [
       "array([ 0.,  1.,  2.,  3.,  4.,  5.,  6.,  7.,  8.,  9., 10.])"
      ]
     },
     "execution_count": 51,
     "metadata": {},
     "output_type": "execute_result"
    }
   ],
   "source": [
    "classes = df[[\"Stay\"]]\n",
    "orde = OrdinalEncoder()\n",
    "\n",
    "np.unique(orde.fit_transform(classes))"
   ]
  },
  {
   "cell_type": "code",
   "execution_count": 54,
   "id": "1aba27b4",
   "metadata": {},
   "outputs": [
    {
     "name": "stderr",
     "output_type": "stream",
     "text": [
      "100%|██████████| 20/20 [00:22<00:00,  1.14s/it]\n"
     ]
    }
   ],
   "source": [
    "samples = 20\n",
    "\n",
    "knn_accuracy_scores = []\n",
    "prknn_accuracy_scores = []\n",
    "\n",
    "knn_f1_scores = []\n",
    "prknn_f1_scores = []\n",
    "\n",
    "for _ in tqdm(range(samples)):\n",
    "\n",
    "    df_sample = df.sample(50_00)\n",
    "\n",
    "    X = df_sample.drop('Stay', axis=1)\n",
    "    y = df_sample['Stay']\n",
    "\n",
    "    X_train, X_test, y_train, y_test = train_test_split(X, y, train_size=0.8, random_state=RANDOM_STATE)\n",
    "    ordinal_encoder = OrdinalEncoder()\n",
    "\n",
    "    y_train = ordinal_encoder.fit_transform(pd.DataFrame(y_train)).ravel()\n",
    "    y_test = ordinal_encoder.fit_transform(pd.DataFrame(y_test)).ravel()\n",
    "    \n",
    "    knn_pipeline.fit(X_train, y_train)\n",
    "    prknn_pipeline.fit(X_train, y_train)\n",
    "    \n",
    "    y_pred_knn = knn_pipeline.predict(X_test)\n",
    "    y_pred_prknn = prknn_pipeline.predict(X_test)\n",
    "\n",
    "    # print(np.unique(y_pred_knn))\n",
    "    # print(np.unique(y_pred_prknn))\n",
    "\n",
    "    knn_accuracy_scores.append(accuracy_score(y_test, y_pred_knn))\n",
    "    knn_f1_scores.append(f1_score(y_test, y_pred_knn, average='micro'))\n",
    "\n",
    "    prknn_accuracy_scores.append(accuracy_score(y_test, y_pred_prknn))\n",
    "    prknn_f1_scores.append(f1_score(y_test, y_pred_prknn, average='micro'))\n"
   ]
  },
  {
   "cell_type": "code",
   "execution_count": 55,
   "id": "2c2704ab",
   "metadata": {},
   "outputs": [
    {
     "name": "stdout",
     "output_type": "stream",
     "text": [
      "0.24835\n",
      "0.25815\n",
      "0.24835\n",
      "0.25815\n"
     ]
    }
   ],
   "source": [
    "knn_accuracy_scores = np.array(knn_accuracy_scores)\n",
    "prknn_accuracy_scores = np.array(prknn_accuracy_scores)\n",
    "\n",
    "print(np.mean(knn_accuracy_scores))\n",
    "print(np.mean(prknn_accuracy_scores))\n",
    "\n",
    "knn_f1_scores = np.array(knn_f1_scores)\n",
    "prknn_f1_scores = np.array(prknn_f1_scores)\n",
    "\n",
    "print(np.mean(knn_f1_scores))\n",
    "print(np.mean(prknn_f1_scores))"
   ]
  }
 ],
 "metadata": {
  "kernelspec": {
   "display_name": "venv",
   "language": "python",
   "name": "python3"
  },
  "language_info": {
   "codemirror_mode": {
    "name": "ipython",
    "version": 3
   },
   "file_extension": ".py",
   "mimetype": "text/x-python",
   "name": "python",
   "nbconvert_exporter": "python",
   "pygments_lexer": "ipython3",
   "version": "3.12.3"
  }
 },
 "nbformat": 4,
 "nbformat_minor": 5
}
