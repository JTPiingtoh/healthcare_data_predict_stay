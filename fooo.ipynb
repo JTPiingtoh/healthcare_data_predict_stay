{
 "cells": [
  {
   "cell_type": "code",
   "execution_count": 20,
   "id": "a497f56c",
   "metadata": {},
   "outputs": [],
   "source": [
    "import numpy as np\n",
    "from sklearn.metrics import pairwise_distances_chunked\n"
   ]
  },
  {
   "cell_type": "code",
   "execution_count": 21,
   "id": "a5ec9cad",
   "metadata": {},
   "outputs": [],
   "source": [
    "root_size = 5\n",
    "\n",
    "x = np.arange(28).reshape((4,7))\n",
    "diag_mask = np.identity(root_size, dtype=bool)"
   ]
  },
  {
   "cell_type": "code",
   "execution_count": 22,
   "id": "bb2f6ef3",
   "metadata": {},
   "outputs": [],
   "source": [
    "# x[diag_mask] = 0"
   ]
  },
  {
   "cell_type": "code",
   "execution_count": 23,
   "id": "66964bf4",
   "metadata": {},
   "outputs": [
    {
     "data": {
      "text/plain": [
       "array([[ 0,  1,  2,  3,  4,  5,  6],\n",
       "       [ 7,  8,  9, 10, 11, 12, 13],\n",
       "       [14, 15, 16, 17, 18, 19, 20],\n",
       "       [21, 22, 23, 24, 25, 26, 27]])"
      ]
     },
     "execution_count": 23,
     "metadata": {},
     "output_type": "execute_result"
    }
   ],
   "source": [
    "x"
   ]
  },
  {
   "cell_type": "code",
   "execution_count": 24,
   "id": "0ac35e01",
   "metadata": {},
   "outputs": [],
   "source": [
    "def triu_with_offset(x: np.array, k: int = 0):\n",
    "\n",
    "    row_count = 0\n",
    "    for row in range(x.shape[0]):\n",
    "        for col in range(k + row_count, x.shape[1]):\n",
    "            print(x[row,col])\n",
    "\n",
    "        row_count += 1"
   ]
  },
  {
   "cell_type": "code",
   "execution_count": null,
   "id": "e9d8722b",
   "metadata": {},
   "outputs": [],
   "source": []
  },
  {
   "cell_type": "code",
   "execution_count": 25,
   "id": "2a98fd75",
   "metadata": {},
   "outputs": [
    {
     "data": {
      "text/plain": [
       "array([ 0,  1,  2,  3,  4,  5,  6,  8,  9, 10, 11, 12, 13, 16, 17, 18, 19,\n",
       "       20, 24, 25, 26, 27])"
      ]
     },
     "execution_count": 25,
     "metadata": {},
     "output_type": "execute_result"
    }
   ],
   "source": [
    "rows, cols = np.triu_indices_from(x, k=0)\n",
    "start = 0\n",
    "\n",
    "cols+=start\n",
    "mask = cols < x.shape[1]\n",
    "cols = cols[mask]\n",
    "rows = rows[mask]\n",
    "x[rows,cols]"
   ]
  },
  {
   "cell_type": "code",
   "execution_count": null,
   "id": "3a67a990",
   "metadata": {},
   "outputs": [],
   "source": [
    "def get_mean_euclidean_chunked(X: np.ndarray) -> float:\n",
    "    \"\"\"\n",
    "    Compute the mean pairwise Euclidean distance using chunking.\n",
    "    \"\"\"\n",
    "    total_sum = 0.0\n",
    "    total_size = 0\n",
    "\n",
    "    def reduce_func(D_chunk, start):\n",
    "        nonlocal total_sum, total_size\n",
    "        n_samples = D_chunk.shape[1]\n",
    "\n",
    "        \n",
    "        row_indices = np.arange(start, start + D_chunk.shape[0])\n",
    "\n",
    "        for local_row, global_row in enumerate(row_indices):\n",
    "            \n",
    "            valid_cols = np.arange(global_row + 1, n_samples)\n",
    "            dists = D_chunk[local_row, valid_cols]\n",
    "\n",
    "            total_sum += dists.sum()\n",
    "            total_size += dists.size\n",
    "\n",
    "        return None  \n",
    "\n",
    "    \n",
    "    list(pairwise_distances_chunked(X, reduce_func=reduce_func))\n",
    "\n",
    "    return total_sum / total_size\n",
    "\n",
    "\n",
    "    "
   ]
  },
  {
   "cell_type": "code",
   "execution_count": 27,
   "id": "d9d7dcad",
   "metadata": {},
   "outputs": [],
   "source": [
    "n_observations_X = 5000_0\n",
    "n_fields = 2\n",
    "\n",
    "arr = np.random.randn(n_observations_X, n_fields)\n"
   ]
  },
  {
   "cell_type": "code",
   "execution_count": 36,
   "id": "fee167cc",
   "metadata": {},
   "outputs": [
    {
     "data": {
      "text/plain": [
       "np.float64(1.7668629855138127)"
      ]
     },
     "execution_count": 36,
     "metadata": {},
     "output_type": "execute_result"
    }
   ],
   "source": [
    "get_mean_euclidean_chunked(arr)\n"
   ]
  },
  {
   "cell_type": "code",
   "execution_count": 31,
   "id": "5e37cb9c",
   "metadata": {},
   "outputs": [
    {
     "name": "stdout",
     "output_type": "stream",
     "text": [
      "[[ 0  1  2  3  4  5  6]\n",
      " [ 7  8  9 10 11 12 13]\n",
      " [14 15 16 17 18 19 20]]\n",
      "[]\n",
      "[ 7 14 15]\n",
      "\n",
      "[[21 22 23 24 25 26 27]]\n",
      "[[21 22 23]]\n",
      "[]\n",
      "\n",
      "[]\n",
      "[]\n",
      "[]\n",
      "\n"
     ]
    }
   ],
   "source": [
    "# take a vertical slice\n",
    "slices = 3\n",
    "slices_rows = 3\n",
    "\n",
    "for slice in range(slices):\n",
    "    base = slice * slices_rows \n",
    "    top = base + slices_rows \n",
    "\n",
    "    lhs_box_base = (slice - 1) * slices_rows\n",
    "    lhs_box_top = lhs_box_base + slices_rows \n",
    "\n",
    "    chunk_D = x[base : top]\n",
    "    print(chunk_D)\n",
    "    # print(chunk_D[bl_mask])\n",
    "    # print(chunk_D.shape[0])\n",
    "\n",
    "    lhs_box = chunk_D.T[0 : lhs_box_top].T\n",
    "    rhs_box = chunk_D.T[lhs_box_top:].T\n",
    "    bl_mask = ~np.triu(np.ones_like(rhs_box, dtype=bool))\n",
    "\n",
    "    tri = rhs_box[bl_mask]\n",
    "    print(lhs_box)\n",
    "    print(tri)\n",
    "    print(\"\", end=\"\\n\")"
   ]
  },
  {
   "cell_type": "code",
   "execution_count": null,
   "id": "22a8485b",
   "metadata": {},
   "outputs": [],
   "source": []
  }
 ],
 "metadata": {
  "kernelspec": {
   "display_name": ".venv (3.13.3)",
   "language": "python",
   "name": "python3"
  },
  "language_info": {
   "codemirror_mode": {
    "name": "ipython",
    "version": 3
   },
   "file_extension": ".py",
   "mimetype": "text/x-python",
   "name": "python",
   "nbconvert_exporter": "python",
   "pygments_lexer": "ipython3",
   "version": "3.13.3"
  }
 },
 "nbformat": 4,
 "nbformat_minor": 5
}
