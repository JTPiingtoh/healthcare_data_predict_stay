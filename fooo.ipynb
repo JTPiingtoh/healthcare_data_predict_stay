{
 "cells": [
  {
   "cell_type": "code",
   "execution_count": 95,
   "id": "a497f56c",
   "metadata": {},
   "outputs": [],
   "source": [
    "import numpy as np"
   ]
  },
  {
   "cell_type": "code",
   "execution_count": 96,
   "id": "a5ec9cad",
   "metadata": {},
   "outputs": [],
   "source": [
    "root_size = 8\n",
    "\n",
    "x = np.arange(root_size ** 2).reshape((root_size,-1))\n",
    "diag_mask = np.identity(root_size, dtype=bool)"
   ]
  },
  {
   "cell_type": "code",
   "execution_count": 97,
   "id": "bb2f6ef3",
   "metadata": {},
   "outputs": [],
   "source": [
    "x[diag_mask] = 0"
   ]
  },
  {
   "cell_type": "code",
   "execution_count": 100,
   "id": "66964bf4",
   "metadata": {},
   "outputs": [
    {
     "data": {
      "text/plain": [
       "array([[ 0,  1,  2,  3,  4,  5,  6,  7],\n",
       "       [ 8,  0, 10, 11, 12, 13, 14, 15],\n",
       "       [16, 17,  0, 19, 20, 21, 22, 23],\n",
       "       [24, 25, 26,  0, 28, 29, 30, 31],\n",
       "       [32, 33, 34, 35,  0, 37, 38, 39],\n",
       "       [40, 41, 42, 43, 44,  0, 46, 47],\n",
       "       [48, 49, 50, 51, 52, 53,  0, 55],\n",
       "       [56, 57, 58, 59, 60, 61, 62,  0]])"
      ]
     },
     "execution_count": 100,
     "metadata": {},
     "output_type": "execute_result"
    }
   ],
   "source": [
    "x"
   ]
  },
  {
   "cell_type": "code",
   "execution_count": 99,
   "id": "5e37cb9c",
   "metadata": {},
   "outputs": [
    {
     "name": "stdout",
     "output_type": "stream",
     "text": [
      "[[ 0  1  2  3  4  5  6  7]\n",
      " [ 8  0 10 11 12 13 14 15]\n",
      " [16 17  0 19 20 21 22 23]]\n",
      "[]\n",
      "[ 8 16 17]\n",
      "[[24 25 26  0 28 29 30 31]\n",
      " [32 33 34 35  0 37 38 39]\n",
      " [40 41 42 43 44  0 46 47]]\n",
      "[[24 25 26]\n",
      " [32 33 34]\n",
      " [40 41 42]]\n",
      "[35 43 44]\n",
      "[[48 49 50 51 52 53  0 55]\n",
      " [56 57 58 59 60 61 62  0]]\n",
      "[[48 49 50 51 52 53]\n",
      " [56 57 58 59 60 61]]\n",
      "[62]\n"
     ]
    }
   ],
   "source": [
    "# take a vertical slice\n",
    "slices = 3\n",
    "slices_rows = 3\n",
    "\n",
    "for slice in range(slices):\n",
    "    base = slice * slices_rows \n",
    "    top = base + slices_rows \n",
    "\n",
    "    lhs_box_base = (slice - 1)* slices_rows\n",
    "    lhs_box_top = lhs_box_base + slices_rows \n",
    "\n",
    "    chunk_D = x[base : top]\n",
    "    print(chunk_D)\n",
    "    # print(chunk_D[bl_mask])\n",
    "    # print(chunk_D.shape[0])\n",
    "\n",
    "    lhs_box = chunk_D.T[0 : lhs_box_top].T\n",
    "    rhs_box = chunk_D.T[lhs_box_top:].T\n",
    "    bl_mask = ~np.triu(np.ones_like(rhs_box, dtype=bool))\n",
    "\n",
    "    tri = rhs_box[bl_mask]\n",
    "    print(lhs_box)\n",
    "    print(tri)"
   ]
  }
 ],
 "metadata": {
  "kernelspec": {
   "display_name": "venv",
   "language": "python",
   "name": "python3"
  },
  "language_info": {
   "codemirror_mode": {
    "name": "ipython",
    "version": 3
   },
   "file_extension": ".py",
   "mimetype": "text/x-python",
   "name": "python",
   "nbconvert_exporter": "python",
   "pygments_lexer": "ipython3",
   "version": "3.12.3"
  }
 },
 "nbformat": 4,
 "nbformat_minor": 5
}
