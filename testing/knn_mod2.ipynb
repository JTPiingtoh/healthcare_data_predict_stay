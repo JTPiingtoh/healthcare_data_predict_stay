{
 "cells": [
  {
   "cell_type": "code",
   "execution_count": 17,
   "id": "68843868",
   "metadata": {},
   "outputs": [],
   "source": [
    "import numpy as np\n",
    "import pandas as pd\n",
    "import matplotlib.pyplot as plt\n",
    "\n",
    "from tqdm import tqdm\n",
    "\n",
    "from sklearn.neighbors import KNeighborsClassifier\n",
    "\n",
    "from sklearn.preprocessing import OneHotEncoder, OrdinalEncoder, MinMaxScaler, MaxAbsScaler\n",
    "\n",
    "from sklearn.impute import KNNImputer\n",
    "\n",
    "from sklearn.pipeline import Pipeline, FeatureUnion\n",
    "from sklearn.compose import ColumnTransformer\n",
    "\n",
    "from sklearn.model_selection import cross_validate\n",
    "from sklearn.model_selection import train_test_split\n",
    "from sklearn.compose import TransformedTargetRegressor\n",
    "\n",
    "from sklearn.metrics import f1_score, precision_score, recall_score, accuracy_score, confusion_matrix"
   ]
  },
  {
   "cell_type": "code",
   "execution_count": 18,
   "id": "83444b13",
   "metadata": {},
   "outputs": [],
   "source": [
    "RANDOM_STATE = 33\n",
    "TEST_SIZE = 0.4\n",
    "TARGET = 'Stay'"
   ]
  },
  {
   "cell_type": "code",
   "execution_count": 19,
   "id": "0e9434e7",
   "metadata": {},
   "outputs": [],
   "source": [
    "df_train= pd.read_csv('train_data.csv')\n",
    "df_test = pd.read_csv('test_data.csv')"
   ]
  },
  {
   "cell_type": "code",
   "execution_count": 20,
   "id": "d57f6350",
   "metadata": {},
   "outputs": [],
   "source": [
    "# vars1 = [\n",
    "#     'Hospital_region_code',\n",
    "#     'Available Extra Rooms in Hospital',\n",
    "#     'Department',\n",
    "#     'Ward_Type',\n",
    "#     'Ward_Facility_Code',\n",
    "#     'Bed Grade',\n",
    "#     'Type of Admission',\n",
    "#     'Severity of Illness',\n",
    "#     'Visitors with Patient',\n",
    "#     'Age',\n",
    "#     'Admission_Deposit',\n",
    "# ]\n",
    "\n",
    "vars1 = [\n",
    "    # OHE features\n",
    "    # 'Hospital_region_code',\n",
    "    # 'Department',\n",
    "    # 'Ward_Type',\n",
    "    # 'Ward_Facility_Code',\n",
    "    # 'Type of Admission',\n",
    "\n",
    "    # ordinal features\n",
    "    'Bed Grade',\n",
    "    'Severity of Illness',\n",
    "    'Admission_Deposit',\n",
    "    # 'Stay'\n",
    "\n",
    "    # numeric features\n",
    "    'Visitors with Patient',\n",
    "    'Age',\n",
    "    'Admission_Deposit',\n",
    "    'Available Extra Rooms in Hospital'\n",
    "]\n"
   ]
  },
  {
   "cell_type": "code",
   "execution_count": 21,
   "id": "75c14005",
   "metadata": {},
   "outputs": [],
   "source": [
    "# onehot_features = [\n",
    "#     'Hospital_region_code',\n",
    "#     'Department',\n",
    "#     'Ward_Type',\n",
    "#     # 'Ward_Facility_Code',\n",
    "#     # 'Type of Admission',\n",
    "# ]\n",
    "\n",
    "ordinal_features = [\n",
    "    'Bed Grade',\n",
    "    'Severity of Illness',\n",
    "    # 'Stay'\n",
    "]\n",
    "\n",
    "numeric_features = [\n",
    "    'Visitors with Patient',\n",
    "    'Age',\n",
    "    'Admission_Deposit',\n",
    "    'Available Extra Rooms in Hospital'\n",
    "]"
   ]
  },
  {
   "cell_type": "code",
   "execution_count": 22,
   "id": "8fcbe059",
   "metadata": {},
   "outputs": [
    {
     "data": {
      "text/html": [
       "<div>\n",
       "<style scoped>\n",
       "    .dataframe tbody tr th:only-of-type {\n",
       "        vertical-align: middle;\n",
       "    }\n",
       "\n",
       "    .dataframe tbody tr th {\n",
       "        vertical-align: top;\n",
       "    }\n",
       "\n",
       "    .dataframe thead th {\n",
       "        text-align: right;\n",
       "    }\n",
       "</style>\n",
       "<table border=\"1\" class=\"dataframe\">\n",
       "  <thead>\n",
       "    <tr style=\"text-align: right;\">\n",
       "      <th></th>\n",
       "      <th>Bed Grade</th>\n",
       "      <th>Severity of Illness</th>\n",
       "      <th>Admission_Deposit</th>\n",
       "      <th>Visitors with Patient</th>\n",
       "      <th>Age</th>\n",
       "      <th>Admission_Deposit</th>\n",
       "      <th>Available Extra Rooms in Hospital</th>\n",
       "      <th>Stay</th>\n",
       "    </tr>\n",
       "  </thead>\n",
       "  <tbody>\n",
       "    <tr>\n",
       "      <th>0</th>\n",
       "      <td>2.0</td>\n",
       "      <td>Extreme</td>\n",
       "      <td>4911.0</td>\n",
       "      <td>2</td>\n",
       "      <td>51-60</td>\n",
       "      <td>4911.0</td>\n",
       "      <td>3</td>\n",
       "      <td>0-10</td>\n",
       "    </tr>\n",
       "    <tr>\n",
       "      <th>1</th>\n",
       "      <td>2.0</td>\n",
       "      <td>Extreme</td>\n",
       "      <td>5954.0</td>\n",
       "      <td>2</td>\n",
       "      <td>51-60</td>\n",
       "      <td>5954.0</td>\n",
       "      <td>2</td>\n",
       "      <td>41-50</td>\n",
       "    </tr>\n",
       "    <tr>\n",
       "      <th>2</th>\n",
       "      <td>2.0</td>\n",
       "      <td>Extreme</td>\n",
       "      <td>4745.0</td>\n",
       "      <td>2</td>\n",
       "      <td>51-60</td>\n",
       "      <td>4745.0</td>\n",
       "      <td>2</td>\n",
       "      <td>31-40</td>\n",
       "    </tr>\n",
       "    <tr>\n",
       "      <th>3</th>\n",
       "      <td>2.0</td>\n",
       "      <td>Extreme</td>\n",
       "      <td>7272.0</td>\n",
       "      <td>2</td>\n",
       "      <td>51-60</td>\n",
       "      <td>7272.0</td>\n",
       "      <td>2</td>\n",
       "      <td>41-50</td>\n",
       "    </tr>\n",
       "    <tr>\n",
       "      <th>4</th>\n",
       "      <td>2.0</td>\n",
       "      <td>Extreme</td>\n",
       "      <td>5558.0</td>\n",
       "      <td>2</td>\n",
       "      <td>51-60</td>\n",
       "      <td>5558.0</td>\n",
       "      <td>2</td>\n",
       "      <td>41-50</td>\n",
       "    </tr>\n",
       "  </tbody>\n",
       "</table>\n",
       "</div>"
      ],
      "text/plain": [
       "   Bed Grade Severity of Illness  Admission_Deposit  Visitors with Patient  \\\n",
       "0        2.0             Extreme             4911.0                      2   \n",
       "1        2.0             Extreme             5954.0                      2   \n",
       "2        2.0             Extreme             4745.0                      2   \n",
       "3        2.0             Extreme             7272.0                      2   \n",
       "4        2.0             Extreme             5558.0                      2   \n",
       "\n",
       "     Age  Admission_Deposit  Available Extra Rooms in Hospital   Stay  \n",
       "0  51-60             4911.0                                  3   0-10  \n",
       "1  51-60             5954.0                                  2  41-50  \n",
       "2  51-60             4745.0                                  2  31-40  \n",
       "3  51-60             7272.0                                  2  41-50  \n",
       "4  51-60             5558.0                                  2  41-50  "
      ]
     },
     "execution_count": 22,
     "metadata": {},
     "output_type": "execute_result"
    }
   ],
   "source": [
    "vars1_with_target = vars1.copy()\n",
    "vars1_with_target.append(TARGET)\n",
    "\n",
    "\n",
    "df_train[vars1_with_target].head()"
   ]
  },
  {
   "cell_type": "code",
   "execution_count": 23,
   "id": "53e9301b",
   "metadata": {},
   "outputs": [],
   "source": [
    "df_train_vars1 = df_train[vars1_with_target]\n",
    "X_train_var1s = df_train[vars1]\n",
    "y_train = df_train[['Stay']]"
   ]
  },
  {
   "cell_type": "code",
   "execution_count": 24,
   "id": "834ff11a",
   "metadata": {},
   "outputs": [
    {
     "data": {
      "text/html": [
       "<div>\n",
       "<style scoped>\n",
       "    .dataframe tbody tr th:only-of-type {\n",
       "        vertical-align: middle;\n",
       "    }\n",
       "\n",
       "    .dataframe tbody tr th {\n",
       "        vertical-align: top;\n",
       "    }\n",
       "\n",
       "    .dataframe thead th {\n",
       "        text-align: right;\n",
       "    }\n",
       "</style>\n",
       "<table border=\"1\" class=\"dataframe\">\n",
       "  <thead>\n",
       "    <tr style=\"text-align: right;\">\n",
       "      <th></th>\n",
       "      <th>Bed Grade</th>\n",
       "      <th>Severity of Illness</th>\n",
       "      <th>Admission_Deposit</th>\n",
       "      <th>Visitors with Patient</th>\n",
       "      <th>Age</th>\n",
       "      <th>Admission_Deposit</th>\n",
       "      <th>Available Extra Rooms in Hospital</th>\n",
       "    </tr>\n",
       "  </thead>\n",
       "  <tbody>\n",
       "    <tr>\n",
       "      <th>0</th>\n",
       "      <td>2.0</td>\n",
       "      <td>Extreme</td>\n",
       "      <td>4911.0</td>\n",
       "      <td>2</td>\n",
       "      <td>51-60</td>\n",
       "      <td>4911.0</td>\n",
       "      <td>3</td>\n",
       "    </tr>\n",
       "    <tr>\n",
       "      <th>1</th>\n",
       "      <td>2.0</td>\n",
       "      <td>Extreme</td>\n",
       "      <td>5954.0</td>\n",
       "      <td>2</td>\n",
       "      <td>51-60</td>\n",
       "      <td>5954.0</td>\n",
       "      <td>2</td>\n",
       "    </tr>\n",
       "    <tr>\n",
       "      <th>2</th>\n",
       "      <td>2.0</td>\n",
       "      <td>Extreme</td>\n",
       "      <td>4745.0</td>\n",
       "      <td>2</td>\n",
       "      <td>51-60</td>\n",
       "      <td>4745.0</td>\n",
       "      <td>2</td>\n",
       "    </tr>\n",
       "    <tr>\n",
       "      <th>3</th>\n",
       "      <td>2.0</td>\n",
       "      <td>Extreme</td>\n",
       "      <td>7272.0</td>\n",
       "      <td>2</td>\n",
       "      <td>51-60</td>\n",
       "      <td>7272.0</td>\n",
       "      <td>2</td>\n",
       "    </tr>\n",
       "    <tr>\n",
       "      <th>4</th>\n",
       "      <td>2.0</td>\n",
       "      <td>Extreme</td>\n",
       "      <td>5558.0</td>\n",
       "      <td>2</td>\n",
       "      <td>51-60</td>\n",
       "      <td>5558.0</td>\n",
       "      <td>2</td>\n",
       "    </tr>\n",
       "  </tbody>\n",
       "</table>\n",
       "</div>"
      ],
      "text/plain": [
       "   Bed Grade Severity of Illness  Admission_Deposit  Visitors with Patient  \\\n",
       "0        2.0             Extreme             4911.0                      2   \n",
       "1        2.0             Extreme             5954.0                      2   \n",
       "2        2.0             Extreme             4745.0                      2   \n",
       "3        2.0             Extreme             7272.0                      2   \n",
       "4        2.0             Extreme             5558.0                      2   \n",
       "\n",
       "     Age  Admission_Deposit  Available Extra Rooms in Hospital  \n",
       "0  51-60             4911.0                                  3  \n",
       "1  51-60             5954.0                                  2  \n",
       "2  51-60             4745.0                                  2  \n",
       "3  51-60             7272.0                                  2  \n",
       "4  51-60             5558.0                                  2  "
      ]
     },
     "execution_count": 24,
     "metadata": {},
     "output_type": "execute_result"
    }
   ],
   "source": [
    "X_train_var1s.head()"
   ]
  },
  {
   "cell_type": "code",
   "execution_count": 25,
   "id": "0602b695",
   "metadata": {},
   "outputs": [
    {
     "data": {
      "text/html": [
       "<div>\n",
       "<style scoped>\n",
       "    .dataframe tbody tr th:only-of-type {\n",
       "        vertical-align: middle;\n",
       "    }\n",
       "\n",
       "    .dataframe tbody tr th {\n",
       "        vertical-align: top;\n",
       "    }\n",
       "\n",
       "    .dataframe thead th {\n",
       "        text-align: right;\n",
       "    }\n",
       "</style>\n",
       "<table border=\"1\" class=\"dataframe\">\n",
       "  <thead>\n",
       "    <tr style=\"text-align: right;\">\n",
       "      <th></th>\n",
       "      <th>Stay</th>\n",
       "    </tr>\n",
       "  </thead>\n",
       "  <tbody>\n",
       "    <tr>\n",
       "      <th>0</th>\n",
       "      <td>0-10</td>\n",
       "    </tr>\n",
       "    <tr>\n",
       "      <th>1</th>\n",
       "      <td>41-50</td>\n",
       "    </tr>\n",
       "    <tr>\n",
       "      <th>2</th>\n",
       "      <td>31-40</td>\n",
       "    </tr>\n",
       "    <tr>\n",
       "      <th>3</th>\n",
       "      <td>41-50</td>\n",
       "    </tr>\n",
       "    <tr>\n",
       "      <th>4</th>\n",
       "      <td>41-50</td>\n",
       "    </tr>\n",
       "  </tbody>\n",
       "</table>\n",
       "</div>"
      ],
      "text/plain": [
       "    Stay\n",
       "0   0-10\n",
       "1  41-50\n",
       "2  31-40\n",
       "3  41-50\n",
       "4  41-50"
      ]
     },
     "execution_count": 25,
     "metadata": {},
     "output_type": "execute_result"
    }
   ],
   "source": [
    "y_train.head()"
   ]
  },
  {
   "cell_type": "code",
   "execution_count": 26,
   "id": "3422fa2c",
   "metadata": {},
   "outputs": [
    {
     "data": {
      "text/plain": [
       "array([0, 4, 3, ..., 1, 1, 0], shape=(318438,))"
      ]
     },
     "execution_count": 26,
     "metadata": {},
     "output_type": "execute_result"
    }
   ],
   "source": [
    "onehot = OneHotEncoder()\n",
    "y_train_1hot = onehot.fit_transform(y_train).toarray()\n",
    "\n",
    "y_train_1hot.argmax(axis=1)"
   ]
  },
  {
   "cell_type": "code",
   "execution_count": 27,
   "id": "e563fed1",
   "metadata": {},
   "outputs": [],
   "source": [
    "def knn_validate(predictor, X, y, scoring_average, test_size = TEST_SIZE, random_state = RANDOM_STATE):\n",
    "\n",
    "    X_train_, X_val_, y_train_, y_val_ = train_test_split(X, y, test_size=test_size, random_state=random_state)\n",
    "\n",
    "    print(\"Valdiation split created\")\n",
    "    if isinstance(predictor, KNeighborsClassifier):\n",
    "        if not scoring_average or scoring_average == 'binary':\n",
    "            raise ValueError('Multiclass knn target requires non binary average')\n",
    "\n",
    "\n",
    "    predictor.fit(X_train_, y_train_)\n",
    "    print(\"Model fitted\")\n",
    "\n",
    "    print('Predicting...')\n",
    "    y_pred = predictor.predict(X_val_)\n",
    "    print(f\"y_pred unique: {np.unique(y_pred)}\")\n",
    "    print(f\"y_val unique: {np.unique(y_val_)}\")\n",
    "\n",
    "    # print(pd.crosstab(y_val_, y_pred))\n",
    "\n",
    "    # this code sucks\n",
    "    f1 = f1_score(y_val_, y_pred, average=scoring_average)\n",
    "    accuracy = accuracy_score(y_val_, y_pred)\n",
    "    recall = recall_score(y_val_, y_pred, average=scoring_average)\n",
    "    preciscion = precision_score(y_val_, y_pred, average=scoring_average)\n",
    "\n",
    "    # print(y_val_.argmax(axis=1))\n",
    "    # print(y_pred.argmax(axis=1))\n",
    "\n",
    "\n",
    "    # NOTE: confusion matrix will scale with size of input vectors\n",
    "    # tn, fp, fn, tp = confusion_matrix(y_val_.argmax(axis=1), y_pred.argmax(axis=1))\n",
    "    # tnr = tn / (tn + fp)\n",
    "\n",
    "    dict = {}\n",
    "\n",
    "    dict['f1_score'] = f1\n",
    "    dict['accuracy_score'] = accuracy\n",
    "    dict['recall_score'] = recall\n",
    "    dict['precision_score'] = preciscion\n",
    "    # dict['true_negative_rate'] = tnr\n",
    "\n",
    "    return dict "
   ]
  },
  {
   "cell_type": "code",
   "execution_count": 28,
   "id": "7717cf16",
   "metadata": {},
   "outputs": [],
   "source": [
    "validation_ks = np.arange(1,100, 10)\n",
    "\n"
   ]
  },
  {
   "cell_type": "markdown",
   "id": "3142820a",
   "metadata": {},
   "source": [
    "Getting TP + FP == 0 for marco scoring average, meaning when each class is weighted the same, certain labels have 0 predictions, which gets detected calculating the TP + FP for that class.\n",
    "\n",
    "Causes:\n",
    "- Can't be scaling, everything it between 0 and 1\n",
    "- Imputer uses too many neighbors (less likely as there will be plenty of non-missing values but stil possible)\n",
    "- transformers are incorrect\n",
    "    - Found error - features moved to correct scaling, retry with macro average"
   ]
  },
  {
   "cell_type": "code",
   "execution_count": 29,
   "id": "4129a85b",
   "metadata": {},
   "outputs": [
    {
     "data": {
      "text/plain": [
       "array([0., 4., 3., ..., 1., 1., 0.], shape=(318438,))"
      ]
     },
     "execution_count": 29,
     "metadata": {},
     "output_type": "execute_result"
    }
   ],
   "source": [
    "onehot = OrdinalEncoder()\n",
    "y_train_ord = onehot.fit_transform(y_train).ravel()\n",
    "y_train_ord"
   ]
  },
  {
   "cell_type": "code",
   "execution_count": 30,
   "id": "c664744b",
   "metadata": {},
   "outputs": [
    {
     "name": "stderr",
     "output_type": "stream",
     "text": [
      "  0%|          | 0/10 [00:00<?, ?it/s]"
     ]
    },
    {
     "name": "stdout",
     "output_type": "stream",
     "text": [
      "Initializing pipeline\n",
      "Pipeline initialized\n",
      "Cross validating...\n",
      "Valdiation split created\n",
      "Model fitted\n",
      "Predicting...\n"
     ]
    },
    {
     "name": "stderr",
     "output_type": "stream",
     "text": [
      "g:\\data_projects\\healthcare_data_predict_stay\\.venv\\Lib\\site-packages\\sklearn\\metrics\\_classification.py:1731: UndefinedMetricWarning: Precision is ill-defined and being set to 0.0 in labels with no predicted samples. Use `zero_division` parameter to control this behavior.\n",
      "  _warn_prf(average, modifier, f\"{metric.capitalize()} is\", result.shape[0])\n",
      " 10%|█         | 1/10 [00:42<06:22, 42.46s/it]"
     ]
    },
    {
     "name": "stdout",
     "output_type": "stream",
     "text": [
      "y_pred unique: [0. 1. 2. 3. 4. 5. 7. 8.]\n",
      "y_val unique: [ 0.  1.  2.  3.  4.  5.  6.  7.  8.  9. 10.]\n",
      "Cross validation complete\n",
      "Adding scores\n",
      "Scores added\n",
      "n_neighbors 1 completed\n",
      "Initializing pipeline\n",
      "Pipeline initialized\n",
      "Cross validating...\n",
      "Valdiation split created\n",
      "Model fitted\n",
      "Predicting...\n"
     ]
    },
    {
     "name": "stderr",
     "output_type": "stream",
     "text": [
      " 10%|█         | 1/10 [01:21<12:10, 81.13s/it]\n"
     ]
    },
    {
     "ename": "KeyboardInterrupt",
     "evalue": "",
     "output_type": "error",
     "traceback": [
      "\u001b[31m---------------------------------------------------------------------------\u001b[39m",
      "\u001b[31mKeyboardInterrupt\u001b[39m                         Traceback (most recent call last)",
      "\u001b[36mCell\u001b[39m\u001b[36m \u001b[39m\u001b[32mIn[30]\u001b[39m\u001b[32m, line 28\u001b[39m\n\u001b[32m     26\u001b[39m \u001b[38;5;28mprint\u001b[39m(\u001b[33m'\u001b[39m\u001b[33mCross validating...\u001b[39m\u001b[33m'\u001b[39m)\n\u001b[32m     27\u001b[39m \u001b[38;5;66;03m# knn_scores = cross_validate(knn_pipeline, X_train, y_train_1hot, scoring=scoring, cv=5)\u001b[39;00m\n\u001b[32m---> \u001b[39m\u001b[32m28\u001b[39m knn_scores = \u001b[43mknn_validate\u001b[49m\u001b[43m(\u001b[49m\u001b[43mpredictor\u001b[49m\u001b[43m=\u001b[49m\u001b[43mknn_pipeline\u001b[49m\u001b[43m,\u001b[49m\u001b[43m \u001b[49m\u001b[43mX\u001b[49m\u001b[43m=\u001b[49m\u001b[43mX_train_var1s\u001b[49m\u001b[43m,\u001b[49m\u001b[43m \u001b[49m\u001b[43my\u001b[49m\u001b[43m=\u001b[49m\u001b[43my_train_ord\u001b[49m\u001b[43m,\u001b[49m\u001b[43m \u001b[49m\u001b[43mrandom_state\u001b[49m\u001b[43m=\u001b[49m\u001b[43mRANDOM_STATE\u001b[49m\u001b[43m,\u001b[49m\u001b[43m \u001b[49m\u001b[43mtest_size\u001b[49m\u001b[43m=\u001b[49m\u001b[43mTEST_SIZE\u001b[49m\u001b[43m,\u001b[49m\u001b[43m \u001b[49m\u001b[43mscoring_average\u001b[49m\u001b[43m=\u001b[49m\u001b[33;43m'\u001b[39;49m\u001b[33;43mmacro\u001b[39;49m\u001b[33;43m'\u001b[39;49m\u001b[43m)\u001b[49m\n\u001b[32m     29\u001b[39m \u001b[38;5;28mprint\u001b[39m(\u001b[33m'\u001b[39m\u001b[33mCross validation complete\u001b[39m\u001b[33m'\u001b[39m)\n\u001b[32m     31\u001b[39m \u001b[38;5;28mprint\u001b[39m(\u001b[33m'\u001b[39m\u001b[33mAdding scores\u001b[39m\u001b[33m'\u001b[39m)\n",
      "\u001b[36mCell\u001b[39m\u001b[36m \u001b[39m\u001b[32mIn[27]\u001b[39m\u001b[32m, line 15\u001b[39m, in \u001b[36mknn_validate\u001b[39m\u001b[34m(predictor, X, y, scoring_average, test_size, random_state)\u001b[39m\n\u001b[32m     12\u001b[39m \u001b[38;5;28mprint\u001b[39m(\u001b[33m\"\u001b[39m\u001b[33mModel fitted\u001b[39m\u001b[33m\"\u001b[39m)\n\u001b[32m     14\u001b[39m \u001b[38;5;28mprint\u001b[39m(\u001b[33m'\u001b[39m\u001b[33mPredicting...\u001b[39m\u001b[33m'\u001b[39m)\n\u001b[32m---> \u001b[39m\u001b[32m15\u001b[39m y_pred = \u001b[43mpredictor\u001b[49m\u001b[43m.\u001b[49m\u001b[43mpredict\u001b[49m\u001b[43m(\u001b[49m\u001b[43mX_val_\u001b[49m\u001b[43m)\u001b[49m\n\u001b[32m     16\u001b[39m \u001b[38;5;28mprint\u001b[39m(\u001b[33mf\u001b[39m\u001b[33m\"\u001b[39m\u001b[33my_pred unique: \u001b[39m\u001b[38;5;132;01m{\u001b[39;00mnp.unique(y_pred)\u001b[38;5;132;01m}\u001b[39;00m\u001b[33m\"\u001b[39m)\n\u001b[32m     17\u001b[39m \u001b[38;5;28mprint\u001b[39m(\u001b[33mf\u001b[39m\u001b[33m\"\u001b[39m\u001b[33my_val unique: \u001b[39m\u001b[38;5;132;01m{\u001b[39;00mnp.unique(y_val_)\u001b[38;5;132;01m}\u001b[39;00m\u001b[33m\"\u001b[39m)\n",
      "\u001b[36mFile \u001b[39m\u001b[32mg:\\data_projects\\healthcare_data_predict_stay\\.venv\\Lib\\site-packages\\sklearn\\pipeline.py:789\u001b[39m, in \u001b[36mPipeline.predict\u001b[39m\u001b[34m(self, X, **params)\u001b[39m\n\u001b[32m    787\u001b[39m     \u001b[38;5;28;01mfor\u001b[39;00m _, name, transform \u001b[38;5;129;01min\u001b[39;00m \u001b[38;5;28mself\u001b[39m._iter(with_final=\u001b[38;5;28;01mFalse\u001b[39;00m):\n\u001b[32m    788\u001b[39m         Xt = transform.transform(Xt)\n\u001b[32m--> \u001b[39m\u001b[32m789\u001b[39m     \u001b[38;5;28;01mreturn\u001b[39;00m \u001b[38;5;28;43mself\u001b[39;49m\u001b[43m.\u001b[49m\u001b[43msteps\u001b[49m\u001b[43m[\u001b[49m\u001b[43m-\u001b[49m\u001b[32;43m1\u001b[39;49m\u001b[43m]\u001b[49m\u001b[43m[\u001b[49m\u001b[32;43m1\u001b[39;49m\u001b[43m]\u001b[49m\u001b[43m.\u001b[49m\u001b[43mpredict\u001b[49m\u001b[43m(\u001b[49m\u001b[43mXt\u001b[49m\u001b[43m,\u001b[49m\u001b[43m \u001b[49m\u001b[43m*\u001b[49m\u001b[43m*\u001b[49m\u001b[43mparams\u001b[49m\u001b[43m)\u001b[49m\n\u001b[32m    791\u001b[39m \u001b[38;5;66;03m# metadata routing enabled\u001b[39;00m\n\u001b[32m    792\u001b[39m routed_params = process_routing(\u001b[38;5;28mself\u001b[39m, \u001b[33m\"\u001b[39m\u001b[33mpredict\u001b[39m\u001b[33m\"\u001b[39m, **params)\n",
      "\u001b[36mFile \u001b[39m\u001b[32mg:\\data_projects\\healthcare_data_predict_stay\\.venv\\Lib\\site-packages\\sklearn\\neighbors\\_classification.py:274\u001b[39m, in \u001b[36mKNeighborsClassifier.predict\u001b[39m\u001b[34m(self, X)\u001b[39m\n\u001b[32m    271\u001b[39m         \u001b[38;5;28;01mreturn\u001b[39;00m \u001b[38;5;28mself\u001b[39m.classes_[np.argmax(probabilities, axis=\u001b[32m1\u001b[39m)]\n\u001b[32m    272\u001b[39m     \u001b[38;5;66;03m# In that case, we do not need the distances to perform\u001b[39;00m\n\u001b[32m    273\u001b[39m     \u001b[38;5;66;03m# the weighting so we do not compute them.\u001b[39;00m\n\u001b[32m--> \u001b[39m\u001b[32m274\u001b[39m     neigh_ind = \u001b[38;5;28;43mself\u001b[39;49m\u001b[43m.\u001b[49m\u001b[43mkneighbors\u001b[49m\u001b[43m(\u001b[49m\u001b[43mX\u001b[49m\u001b[43m,\u001b[49m\u001b[43m \u001b[49m\u001b[43mreturn_distance\u001b[49m\u001b[43m=\u001b[49m\u001b[38;5;28;43;01mFalse\u001b[39;49;00m\u001b[43m)\u001b[49m\n\u001b[32m    275\u001b[39m     neigh_dist = \u001b[38;5;28;01mNone\u001b[39;00m\n\u001b[32m    276\u001b[39m \u001b[38;5;28;01melse\u001b[39;00m:\n",
      "\u001b[36mFile \u001b[39m\u001b[32mg:\\data_projects\\healthcare_data_predict_stay\\.venv\\Lib\\site-packages\\sklearn\\neighbors\\_base.py:923\u001b[39m, in \u001b[36mKNeighborsMixin.kneighbors\u001b[39m\u001b[34m(self, X, n_neighbors, return_distance)\u001b[39m\n\u001b[32m    918\u001b[39m     \u001b[38;5;28;01mif\u001b[39;00m issparse(X):\n\u001b[32m    919\u001b[39m         \u001b[38;5;28;01mraise\u001b[39;00m \u001b[38;5;167;01mValueError\u001b[39;00m(\n\u001b[32m    920\u001b[39m             \u001b[33m\"\u001b[39m\u001b[38;5;132;01m%s\u001b[39;00m\u001b[33m does not work with sparse matrices. Densify the data, \u001b[39m\u001b[33m\"\u001b[39m\n\u001b[32m    921\u001b[39m             \u001b[33m\"\u001b[39m\u001b[33mor set algorithm=\u001b[39m\u001b[33m'\u001b[39m\u001b[33mbrute\u001b[39m\u001b[33m'\u001b[39m\u001b[33m\"\u001b[39m % \u001b[38;5;28mself\u001b[39m._fit_method\n\u001b[32m    922\u001b[39m         )\n\u001b[32m--> \u001b[39m\u001b[32m923\u001b[39m     chunked_results = \u001b[43mParallel\u001b[49m\u001b[43m(\u001b[49m\u001b[43mn_jobs\u001b[49m\u001b[43m,\u001b[49m\u001b[43m \u001b[49m\u001b[43mprefer\u001b[49m\u001b[43m=\u001b[49m\u001b[33;43m\"\u001b[39;49m\u001b[33;43mthreads\u001b[39;49m\u001b[33;43m\"\u001b[39;49m\u001b[43m)\u001b[49m\u001b[43m(\u001b[49m\n\u001b[32m    924\u001b[39m \u001b[43m        \u001b[49m\u001b[43mdelayed\u001b[49m\u001b[43m(\u001b[49m\u001b[38;5;28;43mself\u001b[39;49m\u001b[43m.\u001b[49m\u001b[43m_tree\u001b[49m\u001b[43m.\u001b[49m\u001b[43mquery\u001b[49m\u001b[43m)\u001b[49m\u001b[43m(\u001b[49m\u001b[43mX\u001b[49m\u001b[43m[\u001b[49m\u001b[43ms\u001b[49m\u001b[43m]\u001b[49m\u001b[43m,\u001b[49m\u001b[43m \u001b[49m\u001b[43mn_neighbors\u001b[49m\u001b[43m,\u001b[49m\u001b[43m \u001b[49m\u001b[43mreturn_distance\u001b[49m\u001b[43m)\u001b[49m\n\u001b[32m    925\u001b[39m \u001b[43m        \u001b[49m\u001b[38;5;28;43;01mfor\u001b[39;49;00m\u001b[43m \u001b[49m\u001b[43ms\u001b[49m\u001b[43m \u001b[49m\u001b[38;5;129;43;01min\u001b[39;49;00m\u001b[43m \u001b[49m\u001b[43mgen_even_slices\u001b[49m\u001b[43m(\u001b[49m\u001b[43mX\u001b[49m\u001b[43m.\u001b[49m\u001b[43mshape\u001b[49m\u001b[43m[\u001b[49m\u001b[32;43m0\u001b[39;49m\u001b[43m]\u001b[49m\u001b[43m,\u001b[49m\u001b[43m \u001b[49m\u001b[43mn_jobs\u001b[49m\u001b[43m)\u001b[49m\n\u001b[32m    926\u001b[39m \u001b[43m    \u001b[49m\u001b[43m)\u001b[49m\n\u001b[32m    927\u001b[39m \u001b[38;5;28;01melse\u001b[39;00m:\n\u001b[32m    928\u001b[39m     \u001b[38;5;28;01mraise\u001b[39;00m \u001b[38;5;167;01mValueError\u001b[39;00m(\u001b[33m\"\u001b[39m\u001b[33minternal: _fit_method not recognized\u001b[39m\u001b[33m\"\u001b[39m)\n",
      "\u001b[36mFile \u001b[39m\u001b[32mg:\\data_projects\\healthcare_data_predict_stay\\.venv\\Lib\\site-packages\\sklearn\\utils\\parallel.py:82\u001b[39m, in \u001b[36mParallel.__call__\u001b[39m\u001b[34m(self, iterable)\u001b[39m\n\u001b[32m     73\u001b[39m warning_filters = warnings.filters\n\u001b[32m     74\u001b[39m iterable_with_config_and_warning_filters = (\n\u001b[32m     75\u001b[39m     (\n\u001b[32m     76\u001b[39m         _with_config_and_warning_filters(delayed_func, config, warning_filters),\n\u001b[32m   (...)\u001b[39m\u001b[32m     80\u001b[39m     \u001b[38;5;28;01mfor\u001b[39;00m delayed_func, args, kwargs \u001b[38;5;129;01min\u001b[39;00m iterable\n\u001b[32m     81\u001b[39m )\n\u001b[32m---> \u001b[39m\u001b[32m82\u001b[39m \u001b[38;5;28;01mreturn\u001b[39;00m \u001b[38;5;28;43msuper\u001b[39;49m\u001b[43m(\u001b[49m\u001b[43m)\u001b[49m\u001b[43m.\u001b[49m\u001b[34;43m__call__\u001b[39;49m\u001b[43m(\u001b[49m\u001b[43miterable_with_config_and_warning_filters\u001b[49m\u001b[43m)\u001b[49m\n",
      "\u001b[36mFile \u001b[39m\u001b[32mg:\\data_projects\\healthcare_data_predict_stay\\.venv\\Lib\\site-packages\\joblib\\parallel.py:1986\u001b[39m, in \u001b[36mParallel.__call__\u001b[39m\u001b[34m(self, iterable)\u001b[39m\n\u001b[32m   1984\u001b[39m     output = \u001b[38;5;28mself\u001b[39m._get_sequential_output(iterable)\n\u001b[32m   1985\u001b[39m     \u001b[38;5;28mnext\u001b[39m(output)\n\u001b[32m-> \u001b[39m\u001b[32m1986\u001b[39m     \u001b[38;5;28;01mreturn\u001b[39;00m output \u001b[38;5;28;01mif\u001b[39;00m \u001b[38;5;28mself\u001b[39m.return_generator \u001b[38;5;28;01melse\u001b[39;00m \u001b[38;5;28;43mlist\u001b[39;49m\u001b[43m(\u001b[49m\u001b[43moutput\u001b[49m\u001b[43m)\u001b[49m\n\u001b[32m   1988\u001b[39m \u001b[38;5;66;03m# Let's create an ID that uniquely identifies the current call. If the\u001b[39;00m\n\u001b[32m   1989\u001b[39m \u001b[38;5;66;03m# call is interrupted early and that the same instance is immediately\u001b[39;00m\n\u001b[32m   1990\u001b[39m \u001b[38;5;66;03m# reused, this id will be used to prevent workers that were\u001b[39;00m\n\u001b[32m   1991\u001b[39m \u001b[38;5;66;03m# concurrently finalizing a task from the previous call to run the\u001b[39;00m\n\u001b[32m   1992\u001b[39m \u001b[38;5;66;03m# callback.\u001b[39;00m\n\u001b[32m   1993\u001b[39m \u001b[38;5;28;01mwith\u001b[39;00m \u001b[38;5;28mself\u001b[39m._lock:\n",
      "\u001b[36mFile \u001b[39m\u001b[32mg:\\data_projects\\healthcare_data_predict_stay\\.venv\\Lib\\site-packages\\joblib\\parallel.py:1914\u001b[39m, in \u001b[36mParallel._get_sequential_output\u001b[39m\u001b[34m(self, iterable)\u001b[39m\n\u001b[32m   1912\u001b[39m \u001b[38;5;28mself\u001b[39m.n_dispatched_batches += \u001b[32m1\u001b[39m\n\u001b[32m   1913\u001b[39m \u001b[38;5;28mself\u001b[39m.n_dispatched_tasks += \u001b[32m1\u001b[39m\n\u001b[32m-> \u001b[39m\u001b[32m1914\u001b[39m res = \u001b[43mfunc\u001b[49m\u001b[43m(\u001b[49m\u001b[43m*\u001b[49m\u001b[43margs\u001b[49m\u001b[43m,\u001b[49m\u001b[43m \u001b[49m\u001b[43m*\u001b[49m\u001b[43m*\u001b[49m\u001b[43mkwargs\u001b[49m\u001b[43m)\u001b[49m\n\u001b[32m   1915\u001b[39m \u001b[38;5;28mself\u001b[39m.n_completed_tasks += \u001b[32m1\u001b[39m\n\u001b[32m   1916\u001b[39m \u001b[38;5;28mself\u001b[39m.print_progress()\n",
      "\u001b[36mFile \u001b[39m\u001b[32mg:\\data_projects\\healthcare_data_predict_stay\\.venv\\Lib\\site-packages\\sklearn\\utils\\parallel.py:147\u001b[39m, in \u001b[36m_FuncWrapper.__call__\u001b[39m\u001b[34m(self, *args, **kwargs)\u001b[39m\n\u001b[32m    145\u001b[39m \u001b[38;5;28;01mwith\u001b[39;00m config_context(**config), warnings.catch_warnings():\n\u001b[32m    146\u001b[39m     warnings.filters = warning_filters\n\u001b[32m--> \u001b[39m\u001b[32m147\u001b[39m     \u001b[38;5;28;01mreturn\u001b[39;00m \u001b[38;5;28;43mself\u001b[39;49m\u001b[43m.\u001b[49m\u001b[43mfunction\u001b[49m\u001b[43m(\u001b[49m\u001b[43m*\u001b[49m\u001b[43margs\u001b[49m\u001b[43m,\u001b[49m\u001b[43m \u001b[49m\u001b[43m*\u001b[49m\u001b[43m*\u001b[49m\u001b[43mkwargs\u001b[49m\u001b[43m)\u001b[49m\n",
      "\u001b[31mKeyboardInterrupt\u001b[39m: "
     ]
    }
   ],
   "source": [
    "scoring_lists = {}\n",
    "\n",
    "col_transformer = ColumnTransformer(\n",
    "    transformers=[\n",
    "        # ('onehot', OneHotEncoder(handle_unknown='ignore'), onehot_features),\n",
    "        ('ordinal', OrdinalEncoder(handle_unknown='use_encoded_value', unknown_value=-1), ordinal_features)\n",
    "    ]\n",
    ")\n",
    "\n",
    "y_train_ord = onehot.fit_transform(y_train).ravel()\n",
    "\n",
    "for n_neighbors in tqdm(validation_ks):\n",
    "    knn_pipeline_list = [\n",
    "        ('col_transform', col_transformer),\n",
    "        ('scaler', MaxAbsScaler()),\n",
    "        ('knn_imputer', KNNImputer(n_neighbors=50)),\n",
    "        ('knn', KNeighborsClassifier(n_neighbors=n_neighbors))\n",
    "    ]\n",
    "\n",
    "    print('Initializing pipeline')\n",
    "    knn_pipeline = Pipeline(knn_pipeline_list)\n",
    "    print('Pipeline initialized')\n",
    "\n",
    "    # knn_wrapped_model = TransformedTargetRegressor(regressor=knn_pipeline, transformer=OneHotEncoder())\n",
    "\n",
    "    print('Cross validating...')\n",
    "    # knn_scores = cross_validate(knn_pipeline, X_train, y_train_1hot, scoring=scoring, cv=5)\n",
    "    knn_scores = knn_validate(predictor=knn_pipeline, X=X_train_var1s, y=y_train_ord, random_state=RANDOM_STATE, test_size=TEST_SIZE, scoring_average='macro')\n",
    "    print('Cross validation complete')\n",
    "\n",
    "    print('Adding scores')\n",
    "    for score in knn_scores.keys():\n",
    "        if not score in scoring_lists:\n",
    "            scoring_lists[score] = []\n",
    "            \n",
    "        scoring_lists[score].append(knn_scores[score])\n",
    "    \n",
    "    print('Scores added')\n",
    "    print(f'n_neighbors {n_neighbors} completed', end='\\n')"
   ]
  },
  {
   "cell_type": "code",
   "execution_count": null,
   "id": "289048b4",
   "metadata": {},
   "outputs": [
    {
     "data": {
      "text/plain": [
       "{'f1_score': [0.23035736716492902,\n",
       "  0.1343149135824871,\n",
       "  0.10263834149517563,\n",
       "  0.087106057914372,\n",
       "  0.0771142665715706,\n",
       "  0.07134868182148305,\n",
       "  0.06697641798895415,\n",
       "  0.0642989667285114,\n",
       "  0.061703130060952266,\n",
       "  0.05856757655228456],\n",
       " 'accuracy_score': [0.23035736716492902,\n",
       "  0.08135755558346941,\n",
       "  0.058166373571159405,\n",
       "  0.048117384750659464,\n",
       "  0.04201733450571536,\n",
       "  0.03856299459866851,\n",
       "  0.0359879412134154,\n",
       "  0.034417786710212284,\n",
       "  0.03290258761462128,\n",
       "  0.031120462253485744],\n",
       " 'recall_score': [0.23035736716492902,\n",
       "  0.08135755558346941,\n",
       "  0.058166373571159405,\n",
       "  0.048117384750659464,\n",
       "  0.04201733450571536,\n",
       "  0.03856299459866851,\n",
       "  0.0359879412134154,\n",
       "  0.034417786710212284,\n",
       "  0.03290258761462128,\n",
       "  0.031120462253485744],\n",
       " 'precision_score': [0.23035736716492902,\n",
       "  0.3847696134853154,\n",
       "  0.4359517505148573,\n",
       "  0.45913551576897144,\n",
       "  0.46820050739217917,\n",
       "  0.47624587938724067,\n",
       "  0.48212031973075303,\n",
       "  0.48781573383776566,\n",
       "  0.49492205951818613,\n",
       "  0.49618225059456755]}"
      ]
     },
     "execution_count": 83,
     "metadata": {},
     "output_type": "execute_result"
    }
   ],
   "source": [
    "scoring_lists"
   ]
  },
  {
   "cell_type": "code",
   "execution_count": null,
   "id": "7eb8efe8",
   "metadata": {},
   "outputs": [
    {
     "data": {
      "image/png": "[encoded data removed]",
      "text/plain": [
       "<Figure size 640x480 with 1 Axes>"
      ]
     },
     "metadata": {},
     "output_type": "display_data"
    },
    {
     "data": {
      "image/png": "[encoded data removed]",
      "text/plain": [
       "<Figure size 640x480 with 1 Axes>"
      ]
     },
     "metadata": {},
     "output_type": "display_data"
    },
    {
     "data": {
      "image/png": "[encoded data removed]",
      "text/plain": [
       "<Figure size 640x480 with 1 Axes>"
      ]
     },
     "metadata": {},
     "output_type": "display_data"
    },
    {
     "data": {
      "image/png": "[encoded data removed]",
      "text/plain": [
       "<Figure size 640x480 with 1 Axes>"
      ]
     },
     "metadata": {},
     "output_type": "display_data"
    }
   ],
   "source": [
    "for score in scoring_lists:\n",
    "    fig, ax = plt.subplots()\n",
    "    ax.plot(validation_ks, scoring_lists[score])\n",
    "    ax.set_title(score)"
   ]
  }
 ],
 "metadata": {
  "kernelspec": {
   "display_name": ".venv (3.13.3)",
   "language": "python",
   "name": "python3"
  },
  "language_info": {
   "codemirror_mode": {
    "name": "ipython",
    "version": 3
   },
   "file_extension": ".py",
   "mimetype": "text/x-python",
   "name": "python",
   "nbconvert_exporter": "python",
   "pygments_lexer": "ipython3",
   "version": "3.13.3"
  }
 },
 "nbformat": 4,
 "nbformat_minor": 5
}
