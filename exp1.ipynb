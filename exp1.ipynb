{
 "cells": [
  {
   "cell_type": "code",
   "execution_count": 6,
   "id": "3cf7e8fe",
   "metadata": {},
   "outputs": [],
   "source": [
    "# for fetching datasets\n",
    "from ucimlrepo import fetch_ucirepo \n",
    "\n",
    "import numpy as np\n",
    "import pandas as pd\n",
    "import matplotlib.pyplot as plt\n",
    "\n",
    "from tqdm import tqdm\n",
    "\n",
    "from sklearn.neighbors import KNeighborsClassifier\n",
    "from sklearn.preprocessing import MinMaxScaler, LabelEncoder\n",
    "from sklearn.model_selection import cross_validate\n",
    "\n",
    "# the custom model\n",
    "from test_class import PRKNeighborsClassifier\n",
    "\n",
    "from figure_helpers import generate_score_plot\n"
   ]
  },
  {
   "cell_type": "code",
   "execution_count": 7,
   "id": "8d3ae92d",
   "metadata": {},
   "outputs": [],
   "source": [
    "# for sampling\n",
    "RANDOM_STATE = 33"
   ]
  },
  {
   "cell_type": "code",
   "execution_count": 8,
   "id": "9fb20046",
   "metadata": {},
   "outputs": [],
   "source": [
    "uciml_repos_name_id_dict = {\n",
    "    \"Banknote\": 267,\n",
    "    \"Glass\": 42,\n",
    "    \"Ionosphere\": 52,\n",
    "    \"Wine\": 109,\n",
    "    \"Parkisons\": 174,\n",
    "    \"Sonar\": 151,\n",
    "    \"Haberman\": 43,\n",
    "    \"Page blocks\": 78,\n",
    "    \"Letter recognition\": 59,\n",
    "    \"Ecoli\": 39,\n",
    "    \"Optical digits\": 80,\n",
    "    \"Pen digits\": 81,\n",
    "    \"Transfusion\": 176,\n",
    "    \"Musk2\": 75\n",
    "}"
   ]
  },
  {
   "cell_type": "code",
   "execution_count": 12,
   "id": "dd5d9008",
   "metadata": {},
   "outputs": [
    {
     "name": "stderr",
     "output_type": "stream",
     "text": [
      "0it [00:00, ?it/s]"
     ]
    },
    {
     "name": "stdout",
     "output_type": "stream",
     "text": [
      "Working on Banknote\n",
      "fetching data\n",
      "Size: (1372, 4)\n",
      "transforming target\n",
      "n_k=5\n",
      "fitting standard model\n",
      "fitting weighted model\n",
      "fitting enhanced model\n",
      "CVing standard model\n",
      "CVing weighted model\n",
      "CVing enhanced model\n",
      "n_k=15\n",
      "fitting standard model\n",
      "fitting weighted model\n",
      "fitting enhanced model\n",
      "CVing standard model\n",
      "CVing weighted model\n",
      "CVing enhanced model\n",
      "n_k=30\n",
      "fitting standard model\n",
      "fitting weighted model\n",
      "fitting enhanced model\n",
      "CVing standard model\n",
      "CVing weighted model\n",
      "CVing enhanced model\n",
      "n_k=45\n",
      "fitting standard model\n",
      "fitting weighted model\n",
      "fitting enhanced model\n",
      "CVing standard model\n",
      "CVing weighted model\n",
      "CVing enhanced model\n"
     ]
    },
    {
     "name": "stderr",
     "output_type": "stream",
     "text": [
      "1it [01:20, 80.78s/it]"
     ]
    },
    {
     "name": "stdout",
     "output_type": "stream",
     "text": [
      "Working on Glass\n",
      "fetching data\n",
      "Size: (214, 9)\n",
      "transforming target\n",
      "n_k=5\n",
      "fitting standard model\n",
      "fitting weighted model\n",
      "fitting enhanced model\n",
      "CVing standard model\n"
     ]
    },
    {
     "name": "stderr",
     "output_type": "stream",
     "text": [
      "g:\\data_projects\\healthcare_data_predict_stay\\.venv\\Lib\\site-packages\\sklearn\\model_selection\\_split.py:811: UserWarning: The least populated class in y has only 9 members, which is less than n_splits=10.\n",
      "  warnings.warn(\n"
     ]
    },
    {
     "name": "stdout",
     "output_type": "stream",
     "text": [
      "CVing weighted model\n"
     ]
    },
    {
     "name": "stderr",
     "output_type": "stream",
     "text": [
      "g:\\data_projects\\healthcare_data_predict_stay\\.venv\\Lib\\site-packages\\sklearn\\model_selection\\_split.py:811: UserWarning: The least populated class in y has only 9 members, which is less than n_splits=10.\n",
      "  warnings.warn(\n"
     ]
    },
    {
     "name": "stdout",
     "output_type": "stream",
     "text": [
      "CVing enhanced model\n"
     ]
    },
    {
     "name": "stderr",
     "output_type": "stream",
     "text": [
      "g:\\data_projects\\healthcare_data_predict_stay\\.venv\\Lib\\site-packages\\sklearn\\model_selection\\_split.py:811: UserWarning: The least populated class in y has only 9 members, which is less than n_splits=10.\n",
      "  warnings.warn(\n"
     ]
    },
    {
     "name": "stdout",
     "output_type": "stream",
     "text": [
      "n_k=15\n",
      "fitting standard model\n",
      "fitting weighted model\n",
      "fitting enhanced model\n",
      "CVing standard model\n"
     ]
    },
    {
     "name": "stderr",
     "output_type": "stream",
     "text": [
      "g:\\data_projects\\healthcare_data_predict_stay\\.venv\\Lib\\site-packages\\sklearn\\model_selection\\_split.py:811: UserWarning: The least populated class in y has only 9 members, which is less than n_splits=10.\n",
      "  warnings.warn(\n"
     ]
    },
    {
     "name": "stdout",
     "output_type": "stream",
     "text": [
      "CVing weighted model\n"
     ]
    },
    {
     "name": "stderr",
     "output_type": "stream",
     "text": [
      "g:\\data_projects\\healthcare_data_predict_stay\\.venv\\Lib\\site-packages\\sklearn\\model_selection\\_split.py:811: UserWarning: The least populated class in y has only 9 members, which is less than n_splits=10.\n",
      "  warnings.warn(\n"
     ]
    },
    {
     "name": "stdout",
     "output_type": "stream",
     "text": [
      "CVing enhanced model\n"
     ]
    },
    {
     "name": "stderr",
     "output_type": "stream",
     "text": [
      "g:\\data_projects\\healthcare_data_predict_stay\\.venv\\Lib\\site-packages\\sklearn\\model_selection\\_split.py:811: UserWarning: The least populated class in y has only 9 members, which is less than n_splits=10.\n",
      "  warnings.warn(\n"
     ]
    },
    {
     "name": "stdout",
     "output_type": "stream",
     "text": [
      "n_k=30\n",
      "fitting standard model\n",
      "fitting weighted model\n",
      "fitting enhanced model\n",
      "CVing standard model\n"
     ]
    },
    {
     "name": "stderr",
     "output_type": "stream",
     "text": [
      "g:\\data_projects\\healthcare_data_predict_stay\\.venv\\Lib\\site-packages\\sklearn\\model_selection\\_split.py:811: UserWarning: The least populated class in y has only 9 members, which is less than n_splits=10.\n",
      "  warnings.warn(\n"
     ]
    },
    {
     "name": "stdout",
     "output_type": "stream",
     "text": [
      "CVing weighted model\n"
     ]
    },
    {
     "name": "stderr",
     "output_type": "stream",
     "text": [
      "g:\\data_projects\\healthcare_data_predict_stay\\.venv\\Lib\\site-packages\\sklearn\\model_selection\\_split.py:811: UserWarning: The least populated class in y has only 9 members, which is less than n_splits=10.\n",
      "  warnings.warn(\n"
     ]
    },
    {
     "name": "stdout",
     "output_type": "stream",
     "text": [
      "CVing enhanced model\n"
     ]
    },
    {
     "name": "stderr",
     "output_type": "stream",
     "text": [
      "g:\\data_projects\\healthcare_data_predict_stay\\.venv\\Lib\\site-packages\\sklearn\\model_selection\\_split.py:811: UserWarning: The least populated class in y has only 9 members, which is less than n_splits=10.\n",
      "  warnings.warn(\n"
     ]
    },
    {
     "name": "stdout",
     "output_type": "stream",
     "text": [
      "n_k=45\n",
      "fitting standard model\n",
      "fitting weighted model\n",
      "fitting enhanced model\n",
      "CVing standard model\n"
     ]
    },
    {
     "name": "stderr",
     "output_type": "stream",
     "text": [
      "g:\\data_projects\\healthcare_data_predict_stay\\.venv\\Lib\\site-packages\\sklearn\\model_selection\\_split.py:811: UserWarning: The least populated class in y has only 9 members, which is less than n_splits=10.\n",
      "  warnings.warn(\n"
     ]
    },
    {
     "name": "stdout",
     "output_type": "stream",
     "text": [
      "CVing weighted model\n"
     ]
    },
    {
     "name": "stderr",
     "output_type": "stream",
     "text": [
      "g:\\data_projects\\healthcare_data_predict_stay\\.venv\\Lib\\site-packages\\sklearn\\model_selection\\_split.py:811: UserWarning: The least populated class in y has only 9 members, which is less than n_splits=10.\n",
      "  warnings.warn(\n"
     ]
    },
    {
     "name": "stdout",
     "output_type": "stream",
     "text": [
      "CVing enhanced model\n"
     ]
    },
    {
     "name": "stderr",
     "output_type": "stream",
     "text": [
      "g:\\data_projects\\healthcare_data_predict_stay\\.venv\\Lib\\site-packages\\sklearn\\model_selection\\_split.py:811: UserWarning: The least populated class in y has only 9 members, which is less than n_splits=10.\n",
      "  warnings.warn(\n",
      "2it [01:35, 41.80s/it]"
     ]
    },
    {
     "name": "stdout",
     "output_type": "stream",
     "text": [
      "Working on Ionosphere\n",
      "fetching data\n",
      "Size: (351, 34)\n",
      "transforming target\n",
      "n_k=5\n",
      "fitting standard model\n"
     ]
    },
    {
     "name": "stderr",
     "output_type": "stream",
     "text": [
      "g:\\data_projects\\healthcare_data_predict_stay\\.venv\\Lib\\site-packages\\sklearn\\preprocessing\\_label.py:110: DataConversionWarning: A column-vector y was passed when a 1d array was expected. Please change the shape of y to (n_samples, ), for example using ravel().\n",
      "  y = column_or_1d(y, warn=True)\n"
     ]
    },
    {
     "name": "stdout",
     "output_type": "stream",
     "text": [
      "fitting weighted model\n",
      "fitting enhanced model\n",
      "CVing standard model\n",
      "CVing weighted model\n",
      "CVing enhanced model\n",
      "n_k=15\n",
      "fitting standard model\n",
      "fitting weighted model\n",
      "fitting enhanced model\n",
      "CVing standard model\n",
      "CVing weighted model\n",
      "CVing enhanced model\n",
      "n_k=30\n",
      "fitting standard model\n",
      "fitting weighted model\n",
      "fitting enhanced model\n",
      "CVing standard model\n",
      "CVing weighted model\n",
      "CVing enhanced model\n",
      "n_k=45\n",
      "fitting standard model\n",
      "fitting weighted model\n",
      "fitting enhanced model\n",
      "CVing standard model\n",
      "CVing weighted model\n",
      "CVing enhanced model\n"
     ]
    },
    {
     "name": "stderr",
     "output_type": "stream",
     "text": [
      "3it [04:51, 112.44s/it]"
     ]
    },
    {
     "name": "stdout",
     "output_type": "stream",
     "text": [
      "Working on Wine\n",
      "fetching data\n",
      "Size: (178, 13)\n",
      "transforming target\n",
      "n_k=5\n",
      "fitting standard model\n",
      "fitting weighted model\n",
      "fitting enhanced model\n",
      "CVing standard model\n",
      "CVing weighted model\n",
      "CVing enhanced model\n",
      "n_k=15\n",
      "fitting standard model\n",
      "fitting weighted model\n",
      "fitting enhanced model\n",
      "CVing standard model\n",
      "CVing weighted model\n",
      "CVing enhanced model\n",
      "n_k=30\n",
      "fitting standard model\n",
      "fitting weighted model\n",
      "fitting enhanced model\n",
      "CVing standard model\n",
      "CVing weighted model\n",
      "CVing enhanced model\n",
      "n_k=45\n",
      "fitting standard model\n",
      "fitting weighted model\n",
      "fitting enhanced model\n",
      "CVing standard model\n",
      "CVing weighted model\n",
      "CVing enhanced model\n"
     ]
    },
    {
     "name": "stderr",
     "output_type": "stream",
     "text": [
      "4it [05:03, 72.81s/it] "
     ]
    },
    {
     "name": "stdout",
     "output_type": "stream",
     "text": [
      "Working on Parkisons\n",
      "fetching data\n",
      "Size: (195, 22)\n",
      "transforming target\n",
      "n_k=5\n",
      "fitting standard model\n",
      "fitting weighted model\n",
      "fitting enhanced model\n",
      "CVing standard model\n",
      "CVing weighted model\n",
      "CVing enhanced model\n",
      "n_k=15\n",
      "fitting standard model\n",
      "fitting weighted model\n",
      "fitting enhanced model\n",
      "CVing standard model\n",
      "CVing weighted model\n",
      "CVing enhanced model\n",
      "n_k=30\n",
      "fitting standard model\n",
      "fitting weighted model\n",
      "fitting enhanced model\n",
      "CVing standard model\n",
      "CVing weighted model\n",
      "CVing enhanced model\n",
      "n_k=45\n",
      "fitting standard model\n",
      "fitting weighted model\n",
      "fitting enhanced model\n",
      "CVing standard model\n",
      "CVing weighted model\n",
      "CVing enhanced model\n"
     ]
    },
    {
     "name": "stderr",
     "output_type": "stream",
     "text": [
      "5it [06:41, 81.76s/it]"
     ]
    },
    {
     "name": "stdout",
     "output_type": "stream",
     "text": [
      "Working on Sonar\n",
      "fetching data\n",
      "Size: (208, 60)\n",
      "transforming target\n",
      "n_k=5\n",
      "fitting standard model\n"
     ]
    },
    {
     "name": "stderr",
     "output_type": "stream",
     "text": [
      "g:\\data_projects\\healthcare_data_predict_stay\\.venv\\Lib\\site-packages\\sklearn\\preprocessing\\_label.py:110: DataConversionWarning: A column-vector y was passed when a 1d array was expected. Please change the shape of y to (n_samples, ), for example using ravel().\n",
      "  y = column_or_1d(y, warn=True)\n"
     ]
    },
    {
     "name": "stdout",
     "output_type": "stream",
     "text": [
      "fitting weighted model\n",
      "fitting enhanced model\n",
      "CVing standard model\n",
      "CVing weighted model\n",
      "CVing enhanced model\n",
      "n_k=15\n",
      "fitting standard model\n",
      "fitting weighted model\n",
      "fitting enhanced model\n",
      "CVing standard model\n",
      "CVing weighted model\n",
      "CVing enhanced model\n",
      "n_k=30\n",
      "fitting standard model\n",
      "fitting weighted model\n",
      "fitting enhanced model\n",
      "CVing standard model\n",
      "CVing weighted model\n",
      "CVing enhanced model\n",
      "n_k=45\n",
      "fitting standard model\n",
      "fitting weighted model\n",
      "fitting enhanced model\n",
      "CVing standard model\n",
      "CVing weighted model\n",
      "CVing enhanced model\n"
     ]
    },
    {
     "name": "stderr",
     "output_type": "stream",
     "text": [
      "6it [08:27, 90.00s/it]"
     ]
    },
    {
     "name": "stdout",
     "output_type": "stream",
     "text": [
      "Working on Haberman\n",
      "fetching data\n",
      "Size: (306, 3)\n",
      "transforming target\n",
      "n_k=5\n",
      "fitting standard model\n",
      "fitting weighted model\n",
      "fitting enhanced model\n",
      "CVing standard model\n",
      "CVing weighted model\n",
      "CVing enhanced model\n",
      "n_k=15\n",
      "fitting standard model\n",
      "fitting weighted model\n",
      "fitting enhanced model\n",
      "CVing standard model\n",
      "CVing weighted model\n",
      "CVing enhanced model\n",
      "n_k=30\n",
      "fitting standard model\n",
      "fitting weighted model\n",
      "fitting enhanced model\n",
      "CVing standard model\n",
      "CVing weighted model\n",
      "CVing enhanced model\n",
      "n_k=45\n",
      "fitting standard model\n",
      "fitting weighted model\n",
      "fitting enhanced model\n",
      "CVing standard model\n",
      "CVing weighted model\n",
      "CVing enhanced model\n"
     ]
    },
    {
     "name": "stderr",
     "output_type": "stream",
     "text": [
      "7it [08:46, 66.78s/it]"
     ]
    },
    {
     "name": "stdout",
     "output_type": "stream",
     "text": [
      "Working on Page blocks\n",
      "fetching data\n",
      "Size: (5473, 10)\n",
      "transforming target\n",
      "n_k=5\n",
      "fitting standard model\n",
      "fitting weighted model\n",
      "fitting enhanced model\n",
      "CVing standard model\n",
      "CVing weighted model\n",
      "CVing enhanced model\n",
      "n_k=15\n",
      "fitting standard model\n",
      "fitting weighted model\n",
      "fitting enhanced model\n",
      "CVing standard model\n",
      "CVing weighted model\n",
      "CVing enhanced model\n",
      "n_k=30\n",
      "fitting standard model\n",
      "fitting weighted model\n",
      "fitting enhanced model\n",
      "CVing standard model\n",
      "CVing weighted model\n",
      "CVing enhanced model\n",
      "n_k=45\n",
      "fitting standard model\n",
      "fitting weighted model\n",
      "fitting enhanced model\n",
      "CVing standard model\n",
      "CVing weighted model\n",
      "CVing enhanced model\n"
     ]
    },
    {
     "name": "stderr",
     "output_type": "stream",
     "text": [
      "8it [14:50, 161.43s/it]"
     ]
    },
    {
     "name": "stdout",
     "output_type": "stream",
     "text": [
      "Working on Letter recognition\n",
      "fetching data\n",
      "Size: (20000, 16)\n",
      "transforming target\n",
      "n_k=5\n",
      "fitting standard model\n"
     ]
    },
    {
     "name": "stderr",
     "output_type": "stream",
     "text": [
      "g:\\data_projects\\healthcare_data_predict_stay\\.venv\\Lib\\site-packages\\sklearn\\preprocessing\\_label.py:110: DataConversionWarning: A column-vector y was passed when a 1d array was expected. Please change the shape of y to (n_samples, ), for example using ravel().\n",
      "  y = column_or_1d(y, warn=True)\n"
     ]
    },
    {
     "name": "stdout",
     "output_type": "stream",
     "text": [
      "fitting weighted model\n",
      "fitting enhanced model\n",
      "CVing standard model\n",
      "CVing weighted model\n",
      "CVing enhanced model\n",
      "n_k=15\n",
      "fitting standard model\n",
      "fitting weighted model\n",
      "fitting enhanced model\n",
      "CVing standard model\n",
      "CVing weighted model\n",
      "CVing enhanced model\n",
      "n_k=30\n",
      "fitting standard model\n",
      "fitting weighted model\n",
      "fitting enhanced model\n",
      "CVing standard model\n",
      "CVing weighted model\n",
      "CVing enhanced model\n",
      "n_k=45\n",
      "fitting standard model\n",
      "fitting weighted model\n",
      "fitting enhanced model\n",
      "CVing standard model\n",
      "CVing weighted model\n",
      "CVing enhanced model\n"
     ]
    },
    {
     "name": "stderr",
     "output_type": "stream",
     "text": [
      "9it [44:26, 666.11s/it]"
     ]
    },
    {
     "name": "stdout",
     "output_type": "stream",
     "text": [
      "Working on Ecoli\n",
      "fetching data\n",
      "Size: (336, 7)\n",
      "transforming target\n",
      "n_k=5\n",
      "fitting standard model\n",
      "fitting weighted model\n"
     ]
    },
    {
     "name": "stderr",
     "output_type": "stream",
     "text": [
      "g:\\data_projects\\healthcare_data_predict_stay\\.venv\\Lib\\site-packages\\sklearn\\preprocessing\\_label.py:110: DataConversionWarning: A column-vector y was passed when a 1d array was expected. Please change the shape of y to (n_samples, ), for example using ravel().\n",
      "  y = column_or_1d(y, warn=True)\n"
     ]
    },
    {
     "name": "stdout",
     "output_type": "stream",
     "text": [
      "fitting enhanced model\n",
      "CVing standard model\n"
     ]
    },
    {
     "name": "stderr",
     "output_type": "stream",
     "text": [
      "g:\\data_projects\\healthcare_data_predict_stay\\.venv\\Lib\\site-packages\\sklearn\\model_selection\\_split.py:811: UserWarning: The least populated class in y has only 2 members, which is less than n_splits=10.\n",
      "  warnings.warn(\n",
      "g:\\data_projects\\healthcare_data_predict_stay\\prknn_helpers.py:81: RuntimeWarning: invalid value encountered in scalar divide\n",
      "  return total_sum / total_size\n",
      "g:\\data_projects\\healthcare_data_predict_stay\\prknn_helpers.py:81: RuntimeWarning: invalid value encountered in scalar divide\n",
      "  return total_sum / total_size\n",
      "g:\\data_projects\\healthcare_data_predict_stay\\prknn_helpers.py:81: RuntimeWarning: invalid value encountered in scalar divide\n",
      "  return total_sum / total_size\n",
      "g:\\data_projects\\healthcare_data_predict_stay\\prknn_helpers.py:81: RuntimeWarning: invalid value encountered in scalar divide\n",
      "  return total_sum / total_size\n"
     ]
    },
    {
     "name": "stdout",
     "output_type": "stream",
     "text": [
      "CVing weighted model\n"
     ]
    },
    {
     "name": "stderr",
     "output_type": "stream",
     "text": [
      "g:\\data_projects\\healthcare_data_predict_stay\\.venv\\Lib\\site-packages\\sklearn\\model_selection\\_split.py:811: UserWarning: The least populated class in y has only 2 members, which is less than n_splits=10.\n",
      "  warnings.warn(\n",
      "g:\\data_projects\\healthcare_data_predict_stay\\prknn_helpers.py:81: RuntimeWarning: invalid value encountered in scalar divide\n",
      "  return total_sum / total_size\n",
      "g:\\data_projects\\healthcare_data_predict_stay\\prknn_helpers.py:81: RuntimeWarning: invalid value encountered in scalar divide\n",
      "  return total_sum / total_size\n",
      "g:\\data_projects\\healthcare_data_predict_stay\\prknn_helpers.py:81: RuntimeWarning: invalid value encountered in scalar divide\n",
      "  return total_sum / total_size\n",
      "g:\\data_projects\\healthcare_data_predict_stay\\prknn_helpers.py:81: RuntimeWarning: invalid value encountered in scalar divide\n",
      "  return total_sum / total_size\n"
     ]
    },
    {
     "name": "stdout",
     "output_type": "stream",
     "text": [
      "CVing enhanced model\n"
     ]
    },
    {
     "name": "stderr",
     "output_type": "stream",
     "text": [
      "g:\\data_projects\\healthcare_data_predict_stay\\.venv\\Lib\\site-packages\\sklearn\\model_selection\\_split.py:811: UserWarning: The least populated class in y has only 2 members, which is less than n_splits=10.\n",
      "  warnings.warn(\n",
      "g:\\data_projects\\healthcare_data_predict_stay\\prknn_helpers.py:81: RuntimeWarning: invalid value encountered in scalar divide\n",
      "  return total_sum / total_size\n",
      "g:\\data_projects\\healthcare_data_predict_stay\\prknn_helpers.py:81: RuntimeWarning: invalid value encountered in scalar divide\n",
      "  return total_sum / total_size\n",
      "g:\\data_projects\\healthcare_data_predict_stay\\prknn_helpers.py:81: RuntimeWarning: invalid value encountered in scalar divide\n",
      "  return total_sum / total_size\n",
      "g:\\data_projects\\healthcare_data_predict_stay\\prknn_helpers.py:81: RuntimeWarning: invalid value encountered in scalar divide\n",
      "  return total_sum / total_size\n"
     ]
    },
    {
     "name": "stdout",
     "output_type": "stream",
     "text": [
      "n_k=15\n",
      "fitting standard model\n",
      "fitting weighted model\n",
      "fitting enhanced model\n",
      "CVing standard model\n"
     ]
    },
    {
     "name": "stderr",
     "output_type": "stream",
     "text": [
      "g:\\data_projects\\healthcare_data_predict_stay\\.venv\\Lib\\site-packages\\sklearn\\model_selection\\_split.py:811: UserWarning: The least populated class in y has only 2 members, which is less than n_splits=10.\n",
      "  warnings.warn(\n",
      "g:\\data_projects\\healthcare_data_predict_stay\\prknn_helpers.py:81: RuntimeWarning: invalid value encountered in scalar divide\n",
      "  return total_sum / total_size\n",
      "g:\\data_projects\\healthcare_data_predict_stay\\prknn_helpers.py:81: RuntimeWarning: invalid value encountered in scalar divide\n",
      "  return total_sum / total_size\n",
      "g:\\data_projects\\healthcare_data_predict_stay\\prknn_helpers.py:81: RuntimeWarning: invalid value encountered in scalar divide\n",
      "  return total_sum / total_size\n",
      "g:\\data_projects\\healthcare_data_predict_stay\\prknn_helpers.py:81: RuntimeWarning: invalid value encountered in scalar divide\n",
      "  return total_sum / total_size\n"
     ]
    },
    {
     "name": "stdout",
     "output_type": "stream",
     "text": [
      "CVing weighted model\n"
     ]
    },
    {
     "name": "stderr",
     "output_type": "stream",
     "text": [
      "g:\\data_projects\\healthcare_data_predict_stay\\.venv\\Lib\\site-packages\\sklearn\\model_selection\\_split.py:811: UserWarning: The least populated class in y has only 2 members, which is less than n_splits=10.\n",
      "  warnings.warn(\n",
      "g:\\data_projects\\healthcare_data_predict_stay\\prknn_helpers.py:81: RuntimeWarning: invalid value encountered in scalar divide\n",
      "  return total_sum / total_size\n",
      "g:\\data_projects\\healthcare_data_predict_stay\\prknn_helpers.py:81: RuntimeWarning: invalid value encountered in scalar divide\n",
      "  return total_sum / total_size\n",
      "g:\\data_projects\\healthcare_data_predict_stay\\prknn_helpers.py:81: RuntimeWarning: invalid value encountered in scalar divide\n",
      "  return total_sum / total_size\n",
      "g:\\data_projects\\healthcare_data_predict_stay\\prknn_helpers.py:81: RuntimeWarning: invalid value encountered in scalar divide\n",
      "  return total_sum / total_size\n"
     ]
    },
    {
     "name": "stdout",
     "output_type": "stream",
     "text": [
      "CVing enhanced model\n"
     ]
    },
    {
     "name": "stderr",
     "output_type": "stream",
     "text": [
      "g:\\data_projects\\healthcare_data_predict_stay\\.venv\\Lib\\site-packages\\sklearn\\model_selection\\_split.py:811: UserWarning: The least populated class in y has only 2 members, which is less than n_splits=10.\n",
      "  warnings.warn(\n",
      "g:\\data_projects\\healthcare_data_predict_stay\\prknn_helpers.py:81: RuntimeWarning: invalid value encountered in scalar divide\n",
      "  return total_sum / total_size\n",
      "g:\\data_projects\\healthcare_data_predict_stay\\prknn_helpers.py:81: RuntimeWarning: invalid value encountered in scalar divide\n",
      "  return total_sum / total_size\n",
      "g:\\data_projects\\healthcare_data_predict_stay\\prknn_helpers.py:81: RuntimeWarning: invalid value encountered in scalar divide\n",
      "  return total_sum / total_size\n",
      "g:\\data_projects\\healthcare_data_predict_stay\\prknn_helpers.py:81: RuntimeWarning: invalid value encountered in scalar divide\n",
      "  return total_sum / total_size\n"
     ]
    },
    {
     "name": "stdout",
     "output_type": "stream",
     "text": [
      "n_k=30\n",
      "fitting standard model\n",
      "fitting weighted model\n",
      "fitting enhanced model\n",
      "CVing standard model\n"
     ]
    },
    {
     "name": "stderr",
     "output_type": "stream",
     "text": [
      "g:\\data_projects\\healthcare_data_predict_stay\\.venv\\Lib\\site-packages\\sklearn\\model_selection\\_split.py:811: UserWarning: The least populated class in y has only 2 members, which is less than n_splits=10.\n",
      "  warnings.warn(\n",
      "g:\\data_projects\\healthcare_data_predict_stay\\prknn_helpers.py:81: RuntimeWarning: invalid value encountered in scalar divide\n",
      "  return total_sum / total_size\n",
      "g:\\data_projects\\healthcare_data_predict_stay\\prknn_helpers.py:81: RuntimeWarning: invalid value encountered in scalar divide\n",
      "  return total_sum / total_size\n",
      "g:\\data_projects\\healthcare_data_predict_stay\\prknn_helpers.py:81: RuntimeWarning: invalid value encountered in scalar divide\n",
      "  return total_sum / total_size\n",
      "g:\\data_projects\\healthcare_data_predict_stay\\prknn_helpers.py:81: RuntimeWarning: invalid value encountered in scalar divide\n",
      "  return total_sum / total_size\n"
     ]
    },
    {
     "name": "stdout",
     "output_type": "stream",
     "text": [
      "CVing weighted model\n"
     ]
    },
    {
     "name": "stderr",
     "output_type": "stream",
     "text": [
      "g:\\data_projects\\healthcare_data_predict_stay\\.venv\\Lib\\site-packages\\sklearn\\model_selection\\_split.py:811: UserWarning: The least populated class in y has only 2 members, which is less than n_splits=10.\n",
      "  warnings.warn(\n",
      "g:\\data_projects\\healthcare_data_predict_stay\\prknn_helpers.py:81: RuntimeWarning: invalid value encountered in scalar divide\n",
      "  return total_sum / total_size\n",
      "g:\\data_projects\\healthcare_data_predict_stay\\prknn_helpers.py:81: RuntimeWarning: invalid value encountered in scalar divide\n",
      "  return total_sum / total_size\n",
      "g:\\data_projects\\healthcare_data_predict_stay\\prknn_helpers.py:81: RuntimeWarning: invalid value encountered in scalar divide\n",
      "  return total_sum / total_size\n",
      "g:\\data_projects\\healthcare_data_predict_stay\\prknn_helpers.py:81: RuntimeWarning: invalid value encountered in scalar divide\n",
      "  return total_sum / total_size\n"
     ]
    },
    {
     "name": "stdout",
     "output_type": "stream",
     "text": [
      "CVing enhanced model\n"
     ]
    },
    {
     "name": "stderr",
     "output_type": "stream",
     "text": [
      "g:\\data_projects\\healthcare_data_predict_stay\\.venv\\Lib\\site-packages\\sklearn\\model_selection\\_split.py:811: UserWarning: The least populated class in y has only 2 members, which is less than n_splits=10.\n",
      "  warnings.warn(\n",
      "g:\\data_projects\\healthcare_data_predict_stay\\prknn_helpers.py:81: RuntimeWarning: invalid value encountered in scalar divide\n",
      "  return total_sum / total_size\n",
      "g:\\data_projects\\healthcare_data_predict_stay\\prknn_helpers.py:81: RuntimeWarning: invalid value encountered in scalar divide\n",
      "  return total_sum / total_size\n",
      "g:\\data_projects\\healthcare_data_predict_stay\\prknn_helpers.py:81: RuntimeWarning: invalid value encountered in scalar divide\n",
      "  return total_sum / total_size\n",
      "g:\\data_projects\\healthcare_data_predict_stay\\prknn_helpers.py:81: RuntimeWarning: invalid value encountered in scalar divide\n",
      "  return total_sum / total_size\n"
     ]
    },
    {
     "name": "stdout",
     "output_type": "stream",
     "text": [
      "n_k=45\n",
      "fitting standard model\n",
      "fitting weighted model\n",
      "fitting enhanced model\n",
      "CVing standard model\n"
     ]
    },
    {
     "name": "stderr",
     "output_type": "stream",
     "text": [
      "g:\\data_projects\\healthcare_data_predict_stay\\.venv\\Lib\\site-packages\\sklearn\\model_selection\\_split.py:811: UserWarning: The least populated class in y has only 2 members, which is less than n_splits=10.\n",
      "  warnings.warn(\n",
      "g:\\data_projects\\healthcare_data_predict_stay\\prknn_helpers.py:81: RuntimeWarning: invalid value encountered in scalar divide\n",
      "  return total_sum / total_size\n",
      "g:\\data_projects\\healthcare_data_predict_stay\\prknn_helpers.py:81: RuntimeWarning: invalid value encountered in scalar divide\n",
      "  return total_sum / total_size\n",
      "g:\\data_projects\\healthcare_data_predict_stay\\prknn_helpers.py:81: RuntimeWarning: invalid value encountered in scalar divide\n",
      "  return total_sum / total_size\n",
      "g:\\data_projects\\healthcare_data_predict_stay\\prknn_helpers.py:81: RuntimeWarning: invalid value encountered in scalar divide\n",
      "  return total_sum / total_size\n"
     ]
    },
    {
     "name": "stdout",
     "output_type": "stream",
     "text": [
      "CVing weighted model\n"
     ]
    },
    {
     "name": "stderr",
     "output_type": "stream",
     "text": [
      "g:\\data_projects\\healthcare_data_predict_stay\\.venv\\Lib\\site-packages\\sklearn\\model_selection\\_split.py:811: UserWarning: The least populated class in y has only 2 members, which is less than n_splits=10.\n",
      "  warnings.warn(\n",
      "g:\\data_projects\\healthcare_data_predict_stay\\prknn_helpers.py:81: RuntimeWarning: invalid value encountered in scalar divide\n",
      "  return total_sum / total_size\n",
      "g:\\data_projects\\healthcare_data_predict_stay\\prknn_helpers.py:81: RuntimeWarning: invalid value encountered in scalar divide\n",
      "  return total_sum / total_size\n",
      "g:\\data_projects\\healthcare_data_predict_stay\\prknn_helpers.py:81: RuntimeWarning: invalid value encountered in scalar divide\n",
      "  return total_sum / total_size\n",
      "g:\\data_projects\\healthcare_data_predict_stay\\prknn_helpers.py:81: RuntimeWarning: invalid value encountered in scalar divide\n",
      "  return total_sum / total_size\n"
     ]
    },
    {
     "name": "stdout",
     "output_type": "stream",
     "text": [
      "CVing enhanced model\n"
     ]
    },
    {
     "name": "stderr",
     "output_type": "stream",
     "text": [
      "g:\\data_projects\\healthcare_data_predict_stay\\.venv\\Lib\\site-packages\\sklearn\\model_selection\\_split.py:811: UserWarning: The least populated class in y has only 2 members, which is less than n_splits=10.\n",
      "  warnings.warn(\n",
      "g:\\data_projects\\healthcare_data_predict_stay\\prknn_helpers.py:81: RuntimeWarning: invalid value encountered in scalar divide\n",
      "  return total_sum / total_size\n",
      "g:\\data_projects\\healthcare_data_predict_stay\\prknn_helpers.py:81: RuntimeWarning: invalid value encountered in scalar divide\n",
      "  return total_sum / total_size\n",
      "g:\\data_projects\\healthcare_data_predict_stay\\prknn_helpers.py:81: RuntimeWarning: invalid value encountered in scalar divide\n",
      "  return total_sum / total_size\n",
      "g:\\data_projects\\healthcare_data_predict_stay\\prknn_helpers.py:81: RuntimeWarning: invalid value encountered in scalar divide\n",
      "  return total_sum / total_size\n",
      "10it [44:48, 467.44s/it]"
     ]
    },
    {
     "name": "stdout",
     "output_type": "stream",
     "text": [
      "Working on Optical digits\n",
      "fetching data\n",
      "Size: (5620, 64)\n",
      "transforming target\n",
      "n_k=5\n",
      "fitting standard model\n",
      "fitting weighted model\n",
      "fitting enhanced model\n",
      "CVing standard model\n",
      "CVing weighted model\n",
      "CVing enhanced model\n",
      "n_k=15\n",
      "fitting standard model\n",
      "fitting weighted model\n",
      "fitting enhanced model\n",
      "CVing standard model\n",
      "CVing weighted model\n",
      "CVing enhanced model\n",
      "n_k=30\n",
      "fitting standard model\n",
      "fitting weighted model\n",
      "fitting enhanced model\n",
      "CVing standard model\n",
      "CVing weighted model\n",
      "CVing enhanced model\n",
      "n_k=45\n",
      "fitting standard model\n",
      "fitting weighted model\n",
      "fitting enhanced model\n",
      "CVing standard model\n",
      "CVing weighted model\n",
      "CVing enhanced model\n"
     ]
    },
    {
     "name": "stderr",
     "output_type": "stream",
     "text": [
      "11it [52:38, 468.07s/it]"
     ]
    },
    {
     "name": "stdout",
     "output_type": "stream",
     "text": [
      "Working on Pen digits\n",
      "fetching data\n",
      "Size: (10992, 16)\n",
      "transforming target\n",
      "n_k=5\n",
      "fitting standard model\n",
      "fitting weighted model\n",
      "fitting enhanced model\n",
      "CVing standard model\n",
      "CVing weighted model\n",
      "CVing enhanced model\n",
      "n_k=15\n",
      "fitting standard model\n",
      "fitting weighted model\n",
      "fitting enhanced model\n",
      "CVing standard model\n",
      "CVing weighted model\n",
      "CVing enhanced model\n",
      "n_k=30\n",
      "fitting standard model\n",
      "fitting weighted model\n",
      "fitting enhanced model\n",
      "CVing standard model\n",
      "CVing weighted model\n",
      "CVing enhanced model\n",
      "n_k=45\n",
      "fitting standard model\n",
      "fitting weighted model\n",
      "fitting enhanced model\n",
      "CVing standard model\n",
      "CVing weighted model\n",
      "CVing enhanced model\n"
     ]
    },
    {
     "name": "stderr",
     "output_type": "stream",
     "text": [
      "12it [1:06:33, 579.59s/it]"
     ]
    },
    {
     "name": "stdout",
     "output_type": "stream",
     "text": [
      "Working on Transfusion\n",
      "fetching data\n",
      "Size: (748, 4)\n",
      "transforming target\n",
      "n_k=5\n",
      "fitting standard model\n",
      "fitting weighted model\n",
      "fitting enhanced model\n",
      "CVing standard model\n",
      "CVing weighted model\n",
      "CVing enhanced model\n",
      "n_k=15\n",
      "fitting standard model\n",
      "fitting weighted model\n",
      "fitting enhanced model\n",
      "CVing standard model\n",
      "CVing weighted model\n",
      "CVing enhanced model\n",
      "n_k=30\n",
      "fitting standard model\n",
      "fitting weighted model\n",
      "fitting enhanced model\n",
      "CVing standard model\n",
      "CVing weighted model\n",
      "CVing enhanced model\n",
      "n_k=45\n",
      "fitting standard model\n",
      "fitting weighted model\n",
      "fitting enhanced model\n",
      "CVing standard model\n",
      "CVing weighted model\n",
      "CVing enhanced model\n"
     ]
    },
    {
     "name": "stderr",
     "output_type": "stream",
     "text": [
      "13it [1:07:16, 417.27s/it]"
     ]
    },
    {
     "name": "stdout",
     "output_type": "stream",
     "text": [
      "Working on Musk2\n",
      "fetching data\n",
      "Size: (6598, 166)\n",
      "transforming target\n",
      "n_k=5\n",
      "fitting standard model\n",
      "fitting weighted model\n",
      "fitting enhanced model\n",
      "CVing standard model\n",
      "CVing weighted model\n",
      "CVing enhanced model\n",
      "n_k=15\n",
      "fitting standard model\n",
      "fitting weighted model\n",
      "fitting enhanced model\n",
      "CVing standard model\n",
      "CVing weighted model\n",
      "CVing enhanced model\n",
      "n_k=30\n",
      "fitting standard model\n",
      "fitting weighted model\n",
      "fitting enhanced model\n",
      "CVing standard model\n",
      "CVing weighted model\n",
      "CVing enhanced model\n",
      "n_k=45\n",
      "fitting standard model\n",
      "fitting weighted model\n",
      "fitting enhanced model\n",
      "CVing standard model\n",
      "CVing weighted model\n",
      "CVing enhanced model\n"
     ]
    },
    {
     "name": "stderr",
     "output_type": "stream",
     "text": [
      "14it [1:26:11, 369.38s/it]\n"
     ]
    },
    {
     "data": {
      "image/png": "[encoded data removed]",
      "text/plain": [
       "<Figure size 1000x3000 with 14 Axes>"
      ]
     },
     "metadata": {},
     "output_type": "display_data"
    }
   ],
   "source": [
    "fig, ax = plt.subplots(nrows=7, ncols=2, sharex=True,  figsize=(10, 30))\n",
    "\n",
    "axs = ax.ravel()\n",
    "\n",
    "k_values = [5, 15, 30, 45]\n",
    "\n",
    "scoring = ('f1_macro', 'accuracy')\n",
    "\n",
    "\n",
    "for i, dataset_name_id in tqdm(enumerate(uciml_repos_name_id_dict.items())):\n",
    "\n",
    "    dataset_name, id = dataset_name_id\n",
    "    print(f\"Working on {dataset_name}\")\n",
    "\n",
    "    # fetching the data\n",
    "    print(\"fetching data\")\n",
    "    dataset = fetch_ucirepo(id=id)\n",
    "    X = dataset.data.features\n",
    "    y = dataset.data.targets\n",
    "\n",
    "    print(f\"Size: {X.shape}\")\n",
    "\n",
    "    # # TODO: remove after testing loops\n",
    "    # X = X.sample(50)\n",
    "    # y = y.sample(50)\n",
    "\n",
    "    # fit with k_values and plot reslts\n",
    "\n",
    "    print(\"transforming target\")\n",
    "    if y.dtypes.iloc[0] == 'object':\n",
    "        y = LabelEncoder().fit_transform(y)\n",
    "    else:\n",
    "        y=np.ravel(y)\n",
    "\n",
    "    mnmx_scaler = MinMaxScaler()\n",
    "    X = mnmx_scaler.fit_transform(X)\n",
    "\n",
    "    standard_scores = []\n",
    "    weighted_scores = []\n",
    "    enhanced_scores = []\n",
    "\n",
    "    \n",
    "    for k in k_values:\n",
    "        \n",
    "        print(f\"n_k={k}\")\n",
    "\n",
    "        print(f\"fitting standard model\")\n",
    "        pr_knn_standard = PRKNeighborsClassifier(\n",
    "            pr_version='standard',\n",
    "            base_knn_params={\"n_neighbors\": k}\n",
    "            ).fit(X, y)\n",
    "        \n",
    "        print(f\"fitting weighted model\")\n",
    "        pr_knn_weighted = PRKNeighborsClassifier(\n",
    "            pr_version='weighted',\n",
    "            base_knn_params={\"n_neighbors\": k}\n",
    "            ).fit(X,y)\n",
    "        \n",
    "        print(f\"fitting enhanced model\")\n",
    "        pr_knn_enhanced = PRKNeighborsClassifier(\n",
    "            pr_version='enhanced',\n",
    "            base_knn_params={\"n_neighbors\": k}\n",
    "            ).fit(X,y)\n",
    "\n",
    "        print(\"CVing standard model\")\n",
    "        standard_scores.append(\n",
    "                cross_validate(\n",
    "                estimator=pr_knn_standard,\n",
    "                X=X,\n",
    "                y=y,\n",
    "                scoring=scoring,\n",
    "                cv=10\n",
    "                )\n",
    "            )\n",
    "        \n",
    "        print(\"CVing weighted model\")\n",
    "        weighted_scores.append(\n",
    "                cross_validate(\n",
    "                estimator=pr_knn_weighted,\n",
    "                X=X,\n",
    "                y=y,\n",
    "                scoring=scoring,\n",
    "                cv=10\n",
    "                )\n",
    "        )\n",
    "\n",
    "        print(\"CVing enhanced model\")\n",
    "        enhanced_scores.append(\n",
    "                cross_validate(\n",
    "                estimator=pr_knn_enhanced,\n",
    "                X=X,\n",
    "                y=y,\n",
    "                scoring=scoring,\n",
    "                cv=10\n",
    "                )\n",
    "        )\n",
    "\n",
    "    scores = {}\n",
    "\n",
    "    scores[\"standard\"] = np.array([d['test_f1_macro'] for d in standard_scores])\n",
    "    scores[\"enhanced\"] = np.array([d['test_f1_macro'] for d in enhanced_scores])\n",
    "    scores[\"weighted\"] = np.array([d['test_f1_macro'] for d in weighted_scores])\n",
    "\n",
    "    # plotting the averages\n",
    "    x = np.arange(len(k_values))\n",
    "    width = 0.25\n",
    "    multiplier = 0\n",
    "\n",
    "\n",
    "    generate_score_plot(\n",
    "        scores=scores,\n",
    "        metric= \"F1\",\n",
    "        k_values=k_values,\n",
    "        dataset_name=dataset_name,\n",
    "        ax=axs[i]\n",
    "    )\n"
   ]
  }
 ],
 "metadata": {
  "kernelspec": {
   "display_name": ".venv (3.13.3)",
   "language": "python",
   "name": "python3"
  },
  "language_info": {
   "codemirror_mode": {
    "name": "ipython",
    "version": 3
   },
   "file_extension": ".py",
   "mimetype": "text/x-python",
   "name": "python",
   "nbconvert_exporter": "python",
   "pygments_lexer": "ipython3",
   "version": "3.13.3"
  }
 },
 "nbformat": 4,
 "nbformat_minor": 5
}
